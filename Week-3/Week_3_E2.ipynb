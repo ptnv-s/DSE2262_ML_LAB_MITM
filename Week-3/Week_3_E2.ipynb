{
  "nbformat": 4,
  "nbformat_minor": 0,
  "metadata": {
    "colab": {
      "name": "Week-3-E2.ipynb",
      "provenance": [],
      "collapsed_sections": [],
      "toc_visible": true
    },
    "kernelspec": {
      "name": "python3",
      "display_name": "Python 3"
    },
    "language_info": {
      "name": "python"
    }
  },
  "cells": [
    {
      "cell_type": "markdown",
      "source": [
        "# DSE 2262 MACHINE LEARNING LABORATORY\n"
      ],
      "metadata": {
        "id": "G5J8Fd6C1AGy"
      }
    },
    {
      "cell_type": "markdown",
      "source": [
        "## Week 3 - EXERCISE 2:"
      ],
      "metadata": {
        "id": "ToCE4Qb71BS7"
      }
    },
    {
      "cell_type": "markdown",
      "source": [
        "**About Dataset**\n",
        "\n",
        "**Context**\n",
        "\n",
        "Welcome. This is a Women’s Clothing E-Commerce dataset revolving around the reviews written by customers. Its nine supportive features offer a great environment to parse out the text through its multiple dimensions. Because this is real commercial data, it has been anonymized, and references to the company in the review text and body have been replaced with “retailer”.\n",
        "\n",
        "**Content**\n",
        "\n",
        "This dataset includes 23486 rows and 10 feature variables. Each row corresponds to a customer review, and includes the variables:\n",
        "\n",
        "- Clothing ID: Integer Categorical variable that refers to the specific piece being reviewed.\n",
        "- Age: Positive Integer variable of the reviewers age.\n",
        "- Title: String variable for the title of the review.\n",
        "- Review Text: String variable for the review body.\n",
        "- Rating: Positive Ordinal Integer variable for the product score granted by the customer from 1 Worst, to 5 Best.\n",
        "- Recommended IND: Binary variable stating where the customer recommends the product where 1 is recommended, 0 is not recommended.\n",
        "- Positive Feedback Count: Positive Integer documenting the number of other customers who found this review positive.\n",
        "- Division Name: Categorical name of the product high level division.\n",
        "- Department Name: Categorical name of the product department name.\n",
        "- Class Name: Categorical name of the product class name.\n",
        "\n",
        "**Acknowledgements**\n",
        "\n",
        "Anonymous but real source"
      ],
      "metadata": {
        "id": "GJiBZ-e80qdg"
      }
    },
    {
      "cell_type": "code",
      "execution_count": 1,
      "metadata": {
        "execution": {
          "iopub.execute_input": "2022-02-20T19:59:19.467818Z",
          "iopub.status.busy": "2022-02-20T19:59:19.467269Z",
          "iopub.status.idle": "2022-02-20T19:59:20.413370Z",
          "shell.execute_reply": "2022-02-20T19:59:20.412550Z",
          "shell.execute_reply.started": "2022-02-20T19:52:31.746419Z"
        },
        "papermill": {
          "duration": 0.992446,
          "end_time": "2022-02-20T19:59:20.413552",
          "exception": false,
          "start_time": "2022-02-20T19:59:19.421106",
          "status": "completed"
        },
        "tags": [],
        "id": "9c5a245a",
        "colab": {
          "base_uri": "https://localhost:8080/",
          "height": 17
        },
        "outputId": "0f540bfa-ede1-47d3-8b8f-eef484baba95"
      },
      "outputs": [
        {
          "output_type": "display_data",
          "data": {
            "text/html": [
              "        <script type=\"text/javascript\">\n",
              "        window.PlotlyConfig = {MathJaxConfig: 'local'};\n",
              "        if (window.MathJax) {MathJax.Hub.Config({SVG: {font: \"STIX-Web\"}});}\n",
              "        if (typeof require !== 'undefined') {\n",
              "        require.undef(\"plotly\");\n",
              "        requirejs.config({\n",
              "            paths: {\n",
              "                'plotly': ['https://cdn.plot.ly/plotly-2.8.3.min']\n",
              "            }\n",
              "        });\n",
              "        require(['plotly'], function(Plotly) {\n",
              "            window._Plotly = Plotly;\n",
              "        });\n",
              "        }\n",
              "        </script>\n",
              "        "
            ]
          },
          "metadata": {}
        },
        {
          "output_type": "display_data",
          "data": {
            "text/html": [
              "        <script type=\"text/javascript\">\n",
              "        window.PlotlyConfig = {MathJaxConfig: 'local'};\n",
              "        if (window.MathJax) {MathJax.Hub.Config({SVG: {font: \"STIX-Web\"}});}\n",
              "        if (typeof require !== 'undefined') {\n",
              "        require.undef(\"plotly\");\n",
              "        requirejs.config({\n",
              "            paths: {\n",
              "                'plotly': ['https://cdn.plot.ly/plotly-2.8.3.min']\n",
              "            }\n",
              "        });\n",
              "        require(['plotly'], function(Plotly) {\n",
              "            window._Plotly = Plotly;\n",
              "        });\n",
              "        }\n",
              "        </script>\n",
              "        "
            ]
          },
          "metadata": {}
        }
      ],
      "source": [
        "import pandas as pd\n",
        "import matplotlib.pyplot as plt\n",
        "import numpy as np\n",
        "import seaborn as sns\n",
        "import re\n",
        "%matplotlib inline\n",
        "\n",
        "from sklearn.feature_extraction.text import CountVectorizer\n",
        "from sklearn.tree import DecisionTreeClassifier\n",
        "from sklearn.feature_extraction.text import TfidfTransformer,TfidfVectorizer\n",
        "from sklearn.pipeline import Pipeline\n",
        "from sklearn.naive_bayes import MultinomialNB\n",
        "from sklearn.model_selection import train_test_split\n",
        "from sklearn.metrics import confusion_matrix,precision_score,recall_score,classification_report\n",
        "\n",
        "\n",
        "import plotly as py\n",
        "import cufflinks as cf\n",
        "from plotly.offline import iplot\n",
        "import plotly.graph_objs as go\n",
        "py.offline.init_notebook_mode(connected=True)\n",
        "cf.go_offline()"
      ]
    },
    {
      "cell_type": "code",
      "execution_count": 2,
      "metadata": {
        "execution": {
          "iopub.execute_input": "2022-02-20T19:59:22.625621Z",
          "iopub.status.busy": "2022-02-20T19:59:22.624967Z",
          "iopub.status.idle": "2022-02-20T19:59:24.326573Z",
          "shell.execute_reply": "2022-02-20T19:59:24.327045Z",
          "shell.execute_reply.started": "2022-02-20T19:52:32.106406Z"
        },
        "papermill": {
          "duration": 1.742046,
          "end_time": "2022-02-20T19:59:24.327225",
          "exception": false,
          "start_time": "2022-02-20T19:59:22.585179",
          "status": "completed"
        },
        "tags": [],
        "id": "0a63d1f3"
      },
      "outputs": [],
      "source": [
        "df = pd.read_csv(\"/content/Womens Clothing E-Commerce Reviews.csv\")"
      ]
    },
    {
      "cell_type": "code",
      "execution_count": 3,
      "metadata": {
        "execution": {
          "iopub.execute_input": "2022-02-20T19:59:24.404324Z",
          "iopub.status.busy": "2022-02-20T19:59:24.403432Z",
          "iopub.status.idle": "2022-02-20T19:59:24.419084Z",
          "shell.execute_reply": "2022-02-20T19:59:24.419513Z",
          "shell.execute_reply.started": "2022-02-20T19:52:33.308069Z"
        },
        "papermill": {
          "duration": 0.055995,
          "end_time": "2022-02-20T19:59:24.419665",
          "exception": false,
          "start_time": "2022-02-20T19:59:24.363670",
          "status": "completed"
        },
        "tags": [],
        "id": "207850a3",
        "outputId": "c84296c4-6652-47ea-e664-463bccad8b05",
        "colab": {
          "base_uri": "https://localhost:8080/",
          "height": 354
        }
      },
      "outputs": [
        {
          "output_type": "execute_result",
          "data": {
            "text/plain": [
              "   Unnamed: 0  Clothing ID  Age                    Title  \\\n",
              "0           0          767   33                      NaN   \n",
              "1           1         1080   34                      NaN   \n",
              "2           2         1077   60  Some major design flaws   \n",
              "3           3         1049   50         My favorite buy!   \n",
              "4           4          847   47         Flattering shirt   \n",
              "\n",
              "                                         Review Text  Rating  \\\n",
              "0  Absolutely wonderful - silky and sexy and comf...       4   \n",
              "1  Love this dress!  it's sooo pretty.  i happene...       5   \n",
              "2  I had such high hopes for this dress and reall...       3   \n",
              "3  I love, love, love this jumpsuit. it's fun, fl...       5   \n",
              "4  This shirt is very flattering to all due to th...       5   \n",
              "\n",
              "   Positive Feedback Count   Division Name Department Name   Category  \\\n",
              "0                        0       Initmates        Intimate  Intimates   \n",
              "1                        4         General         Dresses    Dresses   \n",
              "2                        0         General         Dresses    Dresses   \n",
              "3                        0  General Petite         Bottoms      Pants   \n",
              "4                        6         General            Tops    Blouses   \n",
              "\n",
              "   Recommended IND  \n",
              "0                1  \n",
              "1                1  \n",
              "2                0  \n",
              "3                1  \n",
              "4                1  "
            ],
            "text/html": [
              "\n",
              "  <div id=\"df-a23eb5a6-b85b-4f14-a730-bc2fb2226b2b\">\n",
              "    <div class=\"colab-df-container\">\n",
              "      <div>\n",
              "<style scoped>\n",
              "    .dataframe tbody tr th:only-of-type {\n",
              "        vertical-align: middle;\n",
              "    }\n",
              "\n",
              "    .dataframe tbody tr th {\n",
              "        vertical-align: top;\n",
              "    }\n",
              "\n",
              "    .dataframe thead th {\n",
              "        text-align: right;\n",
              "    }\n",
              "</style>\n",
              "<table border=\"1\" class=\"dataframe\">\n",
              "  <thead>\n",
              "    <tr style=\"text-align: right;\">\n",
              "      <th></th>\n",
              "      <th>Unnamed: 0</th>\n",
              "      <th>Clothing ID</th>\n",
              "      <th>Age</th>\n",
              "      <th>Title</th>\n",
              "      <th>Review Text</th>\n",
              "      <th>Rating</th>\n",
              "      <th>Positive Feedback Count</th>\n",
              "      <th>Division Name</th>\n",
              "      <th>Department Name</th>\n",
              "      <th>Category</th>\n",
              "      <th>Recommended IND</th>\n",
              "    </tr>\n",
              "  </thead>\n",
              "  <tbody>\n",
              "    <tr>\n",
              "      <th>0</th>\n",
              "      <td>0</td>\n",
              "      <td>767</td>\n",
              "      <td>33</td>\n",
              "      <td>NaN</td>\n",
              "      <td>Absolutely wonderful - silky and sexy and comf...</td>\n",
              "      <td>4</td>\n",
              "      <td>0</td>\n",
              "      <td>Initmates</td>\n",
              "      <td>Intimate</td>\n",
              "      <td>Intimates</td>\n",
              "      <td>1</td>\n",
              "    </tr>\n",
              "    <tr>\n",
              "      <th>1</th>\n",
              "      <td>1</td>\n",
              "      <td>1080</td>\n",
              "      <td>34</td>\n",
              "      <td>NaN</td>\n",
              "      <td>Love this dress!  it's sooo pretty.  i happene...</td>\n",
              "      <td>5</td>\n",
              "      <td>4</td>\n",
              "      <td>General</td>\n",
              "      <td>Dresses</td>\n",
              "      <td>Dresses</td>\n",
              "      <td>1</td>\n",
              "    </tr>\n",
              "    <tr>\n",
              "      <th>2</th>\n",
              "      <td>2</td>\n",
              "      <td>1077</td>\n",
              "      <td>60</td>\n",
              "      <td>Some major design flaws</td>\n",
              "      <td>I had such high hopes for this dress and reall...</td>\n",
              "      <td>3</td>\n",
              "      <td>0</td>\n",
              "      <td>General</td>\n",
              "      <td>Dresses</td>\n",
              "      <td>Dresses</td>\n",
              "      <td>0</td>\n",
              "    </tr>\n",
              "    <tr>\n",
              "      <th>3</th>\n",
              "      <td>3</td>\n",
              "      <td>1049</td>\n",
              "      <td>50</td>\n",
              "      <td>My favorite buy!</td>\n",
              "      <td>I love, love, love this jumpsuit. it's fun, fl...</td>\n",
              "      <td>5</td>\n",
              "      <td>0</td>\n",
              "      <td>General Petite</td>\n",
              "      <td>Bottoms</td>\n",
              "      <td>Pants</td>\n",
              "      <td>1</td>\n",
              "    </tr>\n",
              "    <tr>\n",
              "      <th>4</th>\n",
              "      <td>4</td>\n",
              "      <td>847</td>\n",
              "      <td>47</td>\n",
              "      <td>Flattering shirt</td>\n",
              "      <td>This shirt is very flattering to all due to th...</td>\n",
              "      <td>5</td>\n",
              "      <td>6</td>\n",
              "      <td>General</td>\n",
              "      <td>Tops</td>\n",
              "      <td>Blouses</td>\n",
              "      <td>1</td>\n",
              "    </tr>\n",
              "  </tbody>\n",
              "</table>\n",
              "</div>\n",
              "      <button class=\"colab-df-convert\" onclick=\"convertToInteractive('df-a23eb5a6-b85b-4f14-a730-bc2fb2226b2b')\"\n",
              "              title=\"Convert this dataframe to an interactive table.\"\n",
              "              style=\"display:none;\">\n",
              "        \n",
              "  <svg xmlns=\"http://www.w3.org/2000/svg\" height=\"24px\"viewBox=\"0 0 24 24\"\n",
              "       width=\"24px\">\n",
              "    <path d=\"M0 0h24v24H0V0z\" fill=\"none\"/>\n",
              "    <path d=\"M18.56 5.44l.94 2.06.94-2.06 2.06-.94-2.06-.94-.94-2.06-.94 2.06-2.06.94zm-11 1L8.5 8.5l.94-2.06 2.06-.94-2.06-.94L8.5 2.5l-.94 2.06-2.06.94zm10 10l.94 2.06.94-2.06 2.06-.94-2.06-.94-.94-2.06-.94 2.06-2.06.94z\"/><path d=\"M17.41 7.96l-1.37-1.37c-.4-.4-.92-.59-1.43-.59-.52 0-1.04.2-1.43.59L10.3 9.45l-7.72 7.72c-.78.78-.78 2.05 0 2.83L4 21.41c.39.39.9.59 1.41.59.51 0 1.02-.2 1.41-.59l7.78-7.78 2.81-2.81c.8-.78.8-2.07 0-2.86zM5.41 20L4 18.59l7.72-7.72 1.47 1.35L5.41 20z\"/>\n",
              "  </svg>\n",
              "      </button>\n",
              "      \n",
              "  <style>\n",
              "    .colab-df-container {\n",
              "      display:flex;\n",
              "      flex-wrap:wrap;\n",
              "      gap: 12px;\n",
              "    }\n",
              "\n",
              "    .colab-df-convert {\n",
              "      background-color: #E8F0FE;\n",
              "      border: none;\n",
              "      border-radius: 50%;\n",
              "      cursor: pointer;\n",
              "      display: none;\n",
              "      fill: #1967D2;\n",
              "      height: 32px;\n",
              "      padding: 0 0 0 0;\n",
              "      width: 32px;\n",
              "    }\n",
              "\n",
              "    .colab-df-convert:hover {\n",
              "      background-color: #E2EBFA;\n",
              "      box-shadow: 0px 1px 2px rgba(60, 64, 67, 0.3), 0px 1px 3px 1px rgba(60, 64, 67, 0.15);\n",
              "      fill: #174EA6;\n",
              "    }\n",
              "\n",
              "    [theme=dark] .colab-df-convert {\n",
              "      background-color: #3B4455;\n",
              "      fill: #D2E3FC;\n",
              "    }\n",
              "\n",
              "    [theme=dark] .colab-df-convert:hover {\n",
              "      background-color: #434B5C;\n",
              "      box-shadow: 0px 1px 3px 1px rgba(0, 0, 0, 0.15);\n",
              "      filter: drop-shadow(0px 1px 2px rgba(0, 0, 0, 0.3));\n",
              "      fill: #FFFFFF;\n",
              "    }\n",
              "  </style>\n",
              "\n",
              "      <script>\n",
              "        const buttonEl =\n",
              "          document.querySelector('#df-a23eb5a6-b85b-4f14-a730-bc2fb2226b2b button.colab-df-convert');\n",
              "        buttonEl.style.display =\n",
              "          google.colab.kernel.accessAllowed ? 'block' : 'none';\n",
              "\n",
              "        async function convertToInteractive(key) {\n",
              "          const element = document.querySelector('#df-a23eb5a6-b85b-4f14-a730-bc2fb2226b2b');\n",
              "          const dataTable =\n",
              "            await google.colab.kernel.invokeFunction('convertToInteractive',\n",
              "                                                     [key], {});\n",
              "          if (!dataTable) return;\n",
              "\n",
              "          const docLinkHtml = 'Like what you see? Visit the ' +\n",
              "            '<a target=\"_blank\" href=https://colab.research.google.com/notebooks/data_table.ipynb>data table notebook</a>'\n",
              "            + ' to learn more about interactive tables.';\n",
              "          element.innerHTML = '';\n",
              "          dataTable['output_type'] = 'display_data';\n",
              "          await google.colab.output.renderOutput(dataTable, element);\n",
              "          const docLink = document.createElement('div');\n",
              "          docLink.innerHTML = docLinkHtml;\n",
              "          element.appendChild(docLink);\n",
              "        }\n",
              "      </script>\n",
              "    </div>\n",
              "  </div>\n",
              "  "
            ]
          },
          "metadata": {},
          "execution_count": 3
        }
      ],
      "source": [
        "df.head()"
      ]
    },
    {
      "cell_type": "markdown",
      "source": [
        "## Q1. Preprocessing"
      ],
      "metadata": {
        "id": "X9-YB9mC1Jlx"
      }
    },
    {
      "cell_type": "code",
      "source": [
        "df.columns"
      ],
      "metadata": {
        "colab": {
          "base_uri": "https://localhost:8080/"
        },
        "id": "ci3Nxb-1t5fN",
        "outputId": "20cea412-f9fa-4abb-d528-453e71f5a9db"
      },
      "execution_count": 4,
      "outputs": [
        {
          "output_type": "execute_result",
          "data": {
            "text/plain": [
              "Index(['Unnamed: 0', 'Clothing ID', 'Age', 'Title', 'Review Text', 'Rating',\n",
              "       'Positive Feedback Count', 'Division Name', 'Department Name',\n",
              "       'Category', 'Recommended IND'],\n",
              "      dtype='object')"
            ]
          },
          "metadata": {},
          "execution_count": 4
        }
      ]
    },
    {
      "cell_type": "markdown",
      "source": [
        "### a. Find any null values are present or not, If present remove those data.\n"
      ],
      "metadata": {
        "id": "49Rq6UpR1P3M"
      }
    },
    {
      "cell_type": "code",
      "source": [
        "df.isnull().sum()"
      ],
      "metadata": {
        "colab": {
          "base_uri": "https://localhost:8080/"
        },
        "id": "TyIqg6U_uEUJ",
        "outputId": "0cb31d53-1925-4679-c740-78e1a3a87fe1"
      },
      "execution_count": 5,
      "outputs": [
        {
          "output_type": "execute_result",
          "data": {
            "text/plain": [
              "Unnamed: 0                    0\n",
              "Clothing ID                   0\n",
              "Age                           0\n",
              "Title                      3810\n",
              "Review Text                 845\n",
              "Rating                        0\n",
              "Positive Feedback Count       0\n",
              "Division Name                14\n",
              "Department Name              14\n",
              "Category                     14\n",
              "Recommended IND               0\n",
              "dtype: int64"
            ]
          },
          "metadata": {},
          "execution_count": 5
        }
      ]
    },
    {
      "cell_type": "code",
      "source": [
        "df.describe()"
      ],
      "metadata": {
        "colab": {
          "base_uri": "https://localhost:8080/",
          "height": 300
        },
        "id": "rnQVvIphuX2s",
        "outputId": "67bf770e-cb2f-4d97-b96f-bb7bb094b0a8"
      },
      "execution_count": 6,
      "outputs": [
        {
          "output_type": "execute_result",
          "data": {
            "text/plain": [
              "         Unnamed: 0   Clothing ID           Age        Rating  \\\n",
              "count  23486.000000  23486.000000  23486.000000  23486.000000   \n",
              "mean   11742.500000    918.118709     43.198544      4.196032   \n",
              "std     6779.968547    203.298980     12.279544      1.110031   \n",
              "min        0.000000      0.000000     18.000000      1.000000   \n",
              "25%     5871.250000    861.000000     34.000000      4.000000   \n",
              "50%    11742.500000    936.000000     41.000000      5.000000   \n",
              "75%    17613.750000   1078.000000     52.000000      5.000000   \n",
              "max    23485.000000   1205.000000     99.000000      5.000000   \n",
              "\n",
              "       Positive Feedback Count  Recommended IND  \n",
              "count             23486.000000     23486.000000  \n",
              "mean                  2.535936         0.822362  \n",
              "std                   5.702202         0.382216  \n",
              "min                   0.000000         0.000000  \n",
              "25%                   0.000000         1.000000  \n",
              "50%                   1.000000         1.000000  \n",
              "75%                   3.000000         1.000000  \n",
              "max                 122.000000         1.000000  "
            ],
            "text/html": [
              "\n",
              "  <div id=\"df-4651134b-20fd-4050-b2fb-3a8d05582376\">\n",
              "    <div class=\"colab-df-container\">\n",
              "      <div>\n",
              "<style scoped>\n",
              "    .dataframe tbody tr th:only-of-type {\n",
              "        vertical-align: middle;\n",
              "    }\n",
              "\n",
              "    .dataframe tbody tr th {\n",
              "        vertical-align: top;\n",
              "    }\n",
              "\n",
              "    .dataframe thead th {\n",
              "        text-align: right;\n",
              "    }\n",
              "</style>\n",
              "<table border=\"1\" class=\"dataframe\">\n",
              "  <thead>\n",
              "    <tr style=\"text-align: right;\">\n",
              "      <th></th>\n",
              "      <th>Unnamed: 0</th>\n",
              "      <th>Clothing ID</th>\n",
              "      <th>Age</th>\n",
              "      <th>Rating</th>\n",
              "      <th>Positive Feedback Count</th>\n",
              "      <th>Recommended IND</th>\n",
              "    </tr>\n",
              "  </thead>\n",
              "  <tbody>\n",
              "    <tr>\n",
              "      <th>count</th>\n",
              "      <td>23486.000000</td>\n",
              "      <td>23486.000000</td>\n",
              "      <td>23486.000000</td>\n",
              "      <td>23486.000000</td>\n",
              "      <td>23486.000000</td>\n",
              "      <td>23486.000000</td>\n",
              "    </tr>\n",
              "    <tr>\n",
              "      <th>mean</th>\n",
              "      <td>11742.500000</td>\n",
              "      <td>918.118709</td>\n",
              "      <td>43.198544</td>\n",
              "      <td>4.196032</td>\n",
              "      <td>2.535936</td>\n",
              "      <td>0.822362</td>\n",
              "    </tr>\n",
              "    <tr>\n",
              "      <th>std</th>\n",
              "      <td>6779.968547</td>\n",
              "      <td>203.298980</td>\n",
              "      <td>12.279544</td>\n",
              "      <td>1.110031</td>\n",
              "      <td>5.702202</td>\n",
              "      <td>0.382216</td>\n",
              "    </tr>\n",
              "    <tr>\n",
              "      <th>min</th>\n",
              "      <td>0.000000</td>\n",
              "      <td>0.000000</td>\n",
              "      <td>18.000000</td>\n",
              "      <td>1.000000</td>\n",
              "      <td>0.000000</td>\n",
              "      <td>0.000000</td>\n",
              "    </tr>\n",
              "    <tr>\n",
              "      <th>25%</th>\n",
              "      <td>5871.250000</td>\n",
              "      <td>861.000000</td>\n",
              "      <td>34.000000</td>\n",
              "      <td>4.000000</td>\n",
              "      <td>0.000000</td>\n",
              "      <td>1.000000</td>\n",
              "    </tr>\n",
              "    <tr>\n",
              "      <th>50%</th>\n",
              "      <td>11742.500000</td>\n",
              "      <td>936.000000</td>\n",
              "      <td>41.000000</td>\n",
              "      <td>5.000000</td>\n",
              "      <td>1.000000</td>\n",
              "      <td>1.000000</td>\n",
              "    </tr>\n",
              "    <tr>\n",
              "      <th>75%</th>\n",
              "      <td>17613.750000</td>\n",
              "      <td>1078.000000</td>\n",
              "      <td>52.000000</td>\n",
              "      <td>5.000000</td>\n",
              "      <td>3.000000</td>\n",
              "      <td>1.000000</td>\n",
              "    </tr>\n",
              "    <tr>\n",
              "      <th>max</th>\n",
              "      <td>23485.000000</td>\n",
              "      <td>1205.000000</td>\n",
              "      <td>99.000000</td>\n",
              "      <td>5.000000</td>\n",
              "      <td>122.000000</td>\n",
              "      <td>1.000000</td>\n",
              "    </tr>\n",
              "  </tbody>\n",
              "</table>\n",
              "</div>\n",
              "      <button class=\"colab-df-convert\" onclick=\"convertToInteractive('df-4651134b-20fd-4050-b2fb-3a8d05582376')\"\n",
              "              title=\"Convert this dataframe to an interactive table.\"\n",
              "              style=\"display:none;\">\n",
              "        \n",
              "  <svg xmlns=\"http://www.w3.org/2000/svg\" height=\"24px\"viewBox=\"0 0 24 24\"\n",
              "       width=\"24px\">\n",
              "    <path d=\"M0 0h24v24H0V0z\" fill=\"none\"/>\n",
              "    <path d=\"M18.56 5.44l.94 2.06.94-2.06 2.06-.94-2.06-.94-.94-2.06-.94 2.06-2.06.94zm-11 1L8.5 8.5l.94-2.06 2.06-.94-2.06-.94L8.5 2.5l-.94 2.06-2.06.94zm10 10l.94 2.06.94-2.06 2.06-.94-2.06-.94-.94-2.06-.94 2.06-2.06.94z\"/><path d=\"M17.41 7.96l-1.37-1.37c-.4-.4-.92-.59-1.43-.59-.52 0-1.04.2-1.43.59L10.3 9.45l-7.72 7.72c-.78.78-.78 2.05 0 2.83L4 21.41c.39.39.9.59 1.41.59.51 0 1.02-.2 1.41-.59l7.78-7.78 2.81-2.81c.8-.78.8-2.07 0-2.86zM5.41 20L4 18.59l7.72-7.72 1.47 1.35L5.41 20z\"/>\n",
              "  </svg>\n",
              "      </button>\n",
              "      \n",
              "  <style>\n",
              "    .colab-df-container {\n",
              "      display:flex;\n",
              "      flex-wrap:wrap;\n",
              "      gap: 12px;\n",
              "    }\n",
              "\n",
              "    .colab-df-convert {\n",
              "      background-color: #E8F0FE;\n",
              "      border: none;\n",
              "      border-radius: 50%;\n",
              "      cursor: pointer;\n",
              "      display: none;\n",
              "      fill: #1967D2;\n",
              "      height: 32px;\n",
              "      padding: 0 0 0 0;\n",
              "      width: 32px;\n",
              "    }\n",
              "\n",
              "    .colab-df-convert:hover {\n",
              "      background-color: #E2EBFA;\n",
              "      box-shadow: 0px 1px 2px rgba(60, 64, 67, 0.3), 0px 1px 3px 1px rgba(60, 64, 67, 0.15);\n",
              "      fill: #174EA6;\n",
              "    }\n",
              "\n",
              "    [theme=dark] .colab-df-convert {\n",
              "      background-color: #3B4455;\n",
              "      fill: #D2E3FC;\n",
              "    }\n",
              "\n",
              "    [theme=dark] .colab-df-convert:hover {\n",
              "      background-color: #434B5C;\n",
              "      box-shadow: 0px 1px 3px 1px rgba(0, 0, 0, 0.15);\n",
              "      filter: drop-shadow(0px 1px 2px rgba(0, 0, 0, 0.3));\n",
              "      fill: #FFFFFF;\n",
              "    }\n",
              "  </style>\n",
              "\n",
              "      <script>\n",
              "        const buttonEl =\n",
              "          document.querySelector('#df-4651134b-20fd-4050-b2fb-3a8d05582376 button.colab-df-convert');\n",
              "        buttonEl.style.display =\n",
              "          google.colab.kernel.accessAllowed ? 'block' : 'none';\n",
              "\n",
              "        async function convertToInteractive(key) {\n",
              "          const element = document.querySelector('#df-4651134b-20fd-4050-b2fb-3a8d05582376');\n",
              "          const dataTable =\n",
              "            await google.colab.kernel.invokeFunction('convertToInteractive',\n",
              "                                                     [key], {});\n",
              "          if (!dataTable) return;\n",
              "\n",
              "          const docLinkHtml = 'Like what you see? Visit the ' +\n",
              "            '<a target=\"_blank\" href=https://colab.research.google.com/notebooks/data_table.ipynb>data table notebook</a>'\n",
              "            + ' to learn more about interactive tables.';\n",
              "          element.innerHTML = '';\n",
              "          dataTable['output_type'] = 'display_data';\n",
              "          await google.colab.output.renderOutput(dataTable, element);\n",
              "          const docLink = document.createElement('div');\n",
              "          docLink.innerHTML = docLinkHtml;\n",
              "          element.appendChild(docLink);\n",
              "        }\n",
              "      </script>\n",
              "    </div>\n",
              "  </div>\n",
              "  "
            ]
          },
          "metadata": {},
          "execution_count": 6
        }
      ]
    },
    {
      "cell_type": "code",
      "source": [
        "df.dropna(inplace=True)"
      ],
      "metadata": {
        "id": "ZROXNXO3uJKJ"
      },
      "execution_count": 7,
      "outputs": []
    },
    {
      "cell_type": "code",
      "source": [
        "df.isnull().sum()"
      ],
      "metadata": {
        "colab": {
          "base_uri": "https://localhost:8080/"
        },
        "id": "CLQb4mrpuNml",
        "outputId": "d694cc2f-95e4-4aa6-db45-9ada3f82e846"
      },
      "execution_count": 8,
      "outputs": [
        {
          "output_type": "execute_result",
          "data": {
            "text/plain": [
              "Unnamed: 0                 0\n",
              "Clothing ID                0\n",
              "Age                        0\n",
              "Title                      0\n",
              "Review Text                0\n",
              "Rating                     0\n",
              "Positive Feedback Count    0\n",
              "Division Name              0\n",
              "Department Name            0\n",
              "Category                   0\n",
              "Recommended IND            0\n",
              "dtype: int64"
            ]
          },
          "metadata": {},
          "execution_count": 8
        }
      ]
    },
    {
      "cell_type": "code",
      "source": [
        "df.describe()"
      ],
      "metadata": {
        "colab": {
          "base_uri": "https://localhost:8080/",
          "height": 300
        },
        "id": "Pcy8fTTpuO9t",
        "outputId": "763ffd3b-e8cc-4620-e383-23b47a314187"
      },
      "execution_count": 9,
      "outputs": [
        {
          "output_type": "execute_result",
          "data": {
            "text/plain": [
              "         Unnamed: 0   Clothing ID           Age        Rating  \\\n",
              "count  19662.000000  19662.000000  19662.000000  19662.000000   \n",
              "mean   11755.260655    921.297274     43.260808      4.183145   \n",
              "std     6772.063092    200.227528     12.258122      1.112224   \n",
              "min        2.000000      1.000000     18.000000      1.000000   \n",
              "25%     5888.250000    861.000000     34.000000      4.000000   \n",
              "50%    11749.500000    936.000000     41.000000      5.000000   \n",
              "75%    17624.750000   1078.000000     52.000000      5.000000   \n",
              "max    23485.000000   1205.000000     99.000000      5.000000   \n",
              "\n",
              "       Positive Feedback Count  Recommended IND  \n",
              "count             19662.000000     19662.000000  \n",
              "mean                  2.652477         0.818177  \n",
              "std                   5.834285         0.385708  \n",
              "min                   0.000000         0.000000  \n",
              "25%                   0.000000         1.000000  \n",
              "50%                   1.000000         1.000000  \n",
              "75%                   3.000000         1.000000  \n",
              "max                 122.000000         1.000000  "
            ],
            "text/html": [
              "\n",
              "  <div id=\"df-177bade6-7ee1-43a3-8e3d-bb3b2e6a7e6b\">\n",
              "    <div class=\"colab-df-container\">\n",
              "      <div>\n",
              "<style scoped>\n",
              "    .dataframe tbody tr th:only-of-type {\n",
              "        vertical-align: middle;\n",
              "    }\n",
              "\n",
              "    .dataframe tbody tr th {\n",
              "        vertical-align: top;\n",
              "    }\n",
              "\n",
              "    .dataframe thead th {\n",
              "        text-align: right;\n",
              "    }\n",
              "</style>\n",
              "<table border=\"1\" class=\"dataframe\">\n",
              "  <thead>\n",
              "    <tr style=\"text-align: right;\">\n",
              "      <th></th>\n",
              "      <th>Unnamed: 0</th>\n",
              "      <th>Clothing ID</th>\n",
              "      <th>Age</th>\n",
              "      <th>Rating</th>\n",
              "      <th>Positive Feedback Count</th>\n",
              "      <th>Recommended IND</th>\n",
              "    </tr>\n",
              "  </thead>\n",
              "  <tbody>\n",
              "    <tr>\n",
              "      <th>count</th>\n",
              "      <td>19662.000000</td>\n",
              "      <td>19662.000000</td>\n",
              "      <td>19662.000000</td>\n",
              "      <td>19662.000000</td>\n",
              "      <td>19662.000000</td>\n",
              "      <td>19662.000000</td>\n",
              "    </tr>\n",
              "    <tr>\n",
              "      <th>mean</th>\n",
              "      <td>11755.260655</td>\n",
              "      <td>921.297274</td>\n",
              "      <td>43.260808</td>\n",
              "      <td>4.183145</td>\n",
              "      <td>2.652477</td>\n",
              "      <td>0.818177</td>\n",
              "    </tr>\n",
              "    <tr>\n",
              "      <th>std</th>\n",
              "      <td>6772.063092</td>\n",
              "      <td>200.227528</td>\n",
              "      <td>12.258122</td>\n",
              "      <td>1.112224</td>\n",
              "      <td>5.834285</td>\n",
              "      <td>0.385708</td>\n",
              "    </tr>\n",
              "    <tr>\n",
              "      <th>min</th>\n",
              "      <td>2.000000</td>\n",
              "      <td>1.000000</td>\n",
              "      <td>18.000000</td>\n",
              "      <td>1.000000</td>\n",
              "      <td>0.000000</td>\n",
              "      <td>0.000000</td>\n",
              "    </tr>\n",
              "    <tr>\n",
              "      <th>25%</th>\n",
              "      <td>5888.250000</td>\n",
              "      <td>861.000000</td>\n",
              "      <td>34.000000</td>\n",
              "      <td>4.000000</td>\n",
              "      <td>0.000000</td>\n",
              "      <td>1.000000</td>\n",
              "    </tr>\n",
              "    <tr>\n",
              "      <th>50%</th>\n",
              "      <td>11749.500000</td>\n",
              "      <td>936.000000</td>\n",
              "      <td>41.000000</td>\n",
              "      <td>5.000000</td>\n",
              "      <td>1.000000</td>\n",
              "      <td>1.000000</td>\n",
              "    </tr>\n",
              "    <tr>\n",
              "      <th>75%</th>\n",
              "      <td>17624.750000</td>\n",
              "      <td>1078.000000</td>\n",
              "      <td>52.000000</td>\n",
              "      <td>5.000000</td>\n",
              "      <td>3.000000</td>\n",
              "      <td>1.000000</td>\n",
              "    </tr>\n",
              "    <tr>\n",
              "      <th>max</th>\n",
              "      <td>23485.000000</td>\n",
              "      <td>1205.000000</td>\n",
              "      <td>99.000000</td>\n",
              "      <td>5.000000</td>\n",
              "      <td>122.000000</td>\n",
              "      <td>1.000000</td>\n",
              "    </tr>\n",
              "  </tbody>\n",
              "</table>\n",
              "</div>\n",
              "      <button class=\"colab-df-convert\" onclick=\"convertToInteractive('df-177bade6-7ee1-43a3-8e3d-bb3b2e6a7e6b')\"\n",
              "              title=\"Convert this dataframe to an interactive table.\"\n",
              "              style=\"display:none;\">\n",
              "        \n",
              "  <svg xmlns=\"http://www.w3.org/2000/svg\" height=\"24px\"viewBox=\"0 0 24 24\"\n",
              "       width=\"24px\">\n",
              "    <path d=\"M0 0h24v24H0V0z\" fill=\"none\"/>\n",
              "    <path d=\"M18.56 5.44l.94 2.06.94-2.06 2.06-.94-2.06-.94-.94-2.06-.94 2.06-2.06.94zm-11 1L8.5 8.5l.94-2.06 2.06-.94-2.06-.94L8.5 2.5l-.94 2.06-2.06.94zm10 10l.94 2.06.94-2.06 2.06-.94-2.06-.94-.94-2.06-.94 2.06-2.06.94z\"/><path d=\"M17.41 7.96l-1.37-1.37c-.4-.4-.92-.59-1.43-.59-.52 0-1.04.2-1.43.59L10.3 9.45l-7.72 7.72c-.78.78-.78 2.05 0 2.83L4 21.41c.39.39.9.59 1.41.59.51 0 1.02-.2 1.41-.59l7.78-7.78 2.81-2.81c.8-.78.8-2.07 0-2.86zM5.41 20L4 18.59l7.72-7.72 1.47 1.35L5.41 20z\"/>\n",
              "  </svg>\n",
              "      </button>\n",
              "      \n",
              "  <style>\n",
              "    .colab-df-container {\n",
              "      display:flex;\n",
              "      flex-wrap:wrap;\n",
              "      gap: 12px;\n",
              "    }\n",
              "\n",
              "    .colab-df-convert {\n",
              "      background-color: #E8F0FE;\n",
              "      border: none;\n",
              "      border-radius: 50%;\n",
              "      cursor: pointer;\n",
              "      display: none;\n",
              "      fill: #1967D2;\n",
              "      height: 32px;\n",
              "      padding: 0 0 0 0;\n",
              "      width: 32px;\n",
              "    }\n",
              "\n",
              "    .colab-df-convert:hover {\n",
              "      background-color: #E2EBFA;\n",
              "      box-shadow: 0px 1px 2px rgba(60, 64, 67, 0.3), 0px 1px 3px 1px rgba(60, 64, 67, 0.15);\n",
              "      fill: #174EA6;\n",
              "    }\n",
              "\n",
              "    [theme=dark] .colab-df-convert {\n",
              "      background-color: #3B4455;\n",
              "      fill: #D2E3FC;\n",
              "    }\n",
              "\n",
              "    [theme=dark] .colab-df-convert:hover {\n",
              "      background-color: #434B5C;\n",
              "      box-shadow: 0px 1px 3px 1px rgba(0, 0, 0, 0.15);\n",
              "      filter: drop-shadow(0px 1px 2px rgba(0, 0, 0, 0.3));\n",
              "      fill: #FFFFFF;\n",
              "    }\n",
              "  </style>\n",
              "\n",
              "      <script>\n",
              "        const buttonEl =\n",
              "          document.querySelector('#df-177bade6-7ee1-43a3-8e3d-bb3b2e6a7e6b button.colab-df-convert');\n",
              "        buttonEl.style.display =\n",
              "          google.colab.kernel.accessAllowed ? 'block' : 'none';\n",
              "\n",
              "        async function convertToInteractive(key) {\n",
              "          const element = document.querySelector('#df-177bade6-7ee1-43a3-8e3d-bb3b2e6a7e6b');\n",
              "          const dataTable =\n",
              "            await google.colab.kernel.invokeFunction('convertToInteractive',\n",
              "                                                     [key], {});\n",
              "          if (!dataTable) return;\n",
              "\n",
              "          const docLinkHtml = 'Like what you see? Visit the ' +\n",
              "            '<a target=\"_blank\" href=https://colab.research.google.com/notebooks/data_table.ipynb>data table notebook</a>'\n",
              "            + ' to learn more about interactive tables.';\n",
              "          element.innerHTML = '';\n",
              "          dataTable['output_type'] = 'display_data';\n",
              "          await google.colab.output.renderOutput(dataTable, element);\n",
              "          const docLink = document.createElement('div');\n",
              "          docLink.innerHTML = docLinkHtml;\n",
              "          element.appendChild(docLink);\n",
              "        }\n",
              "      </script>\n",
              "    </div>\n",
              "  </div>\n",
              "  "
            ]
          },
          "metadata": {},
          "execution_count": 9
        }
      ]
    },
    {
      "cell_type": "markdown",
      "source": [
        "### b. Remove the data that have less than 5 reviews.\n"
      ],
      "metadata": {
        "id": "Qbu7BEQ41T4M"
      }
    },
    {
      "cell_type": "code",
      "source": [
        "counter = df.groupby('Clothing ID')"
      ],
      "metadata": {
        "id": "L-AyC53ctKTm"
      },
      "execution_count": 10,
      "outputs": []
    },
    {
      "cell_type": "code",
      "source": [
        "df = counter.filter(lambda x: len(x) > 5)  # pandas 0.13.1"
      ],
      "metadata": {
        "id": "on181YLMuuZp"
      },
      "execution_count": 11,
      "outputs": []
    },
    {
      "cell_type": "markdown",
      "source": [
        "### c. Clean the data and remove the special characters and replace the contractions with its expansion. Convert the uppercase character to lower case. Also, remove the punctuations."
      ],
      "metadata": {
        "id": "zTQcEuSF1Wzw"
      }
    },
    {
      "cell_type": "code",
      "source": [
        "contractions = {\n",
        "\"a'ight\":\"alright\",\n",
        "\"ain't\":\"are not\",\n",
        "\"amn't\":\"am not\",\n",
        "\"aren't\":\"are not\",\n",
        "\"can't\":\"cannot\",\n",
        "\"'cause\": \"because\",\n",
        "\"could've\":\"could have\",\n",
        "\"couldn't\":\"could not\",\n",
        "\"couldn't've\":\"could not have\",\n",
        "\"daren't\":\"dare not\",\n",
        "\"daresn't\":\"dare not\",\n",
        "\"dasn't\":\"dare not\",\n",
        "\"didn't\":\"did not\",\n",
        "\"doesn't\":\"does not\",\n",
        "\"don't\":\"do not\",\n",
        "\"everybody's\":\"everybody is\",\n",
        "\"everyone's\":\"everyone is\",\n",
        "\"giv'n\":\"given\",\n",
        "\"gonna\":\"going to\",\n",
        "\"gon't\":\"go not\", \n",
        "\"gotta\":\"got to\",\n",
        "\"hadn't\":\"had not\",\n",
        "\"had've\":\"had have\",\n",
        "\"hasn't\":\"has not\",\n",
        "\"haven't\":\"have not\",\n",
        "\"he'd\":\"he had\", \n",
        "\"he'll\":\"he will\",\n",
        "\"he's\":\"he is\",\n",
        "\"here's\":\"here is\",\n",
        "\"how'd\":\"how did\",\n",
        "\"how'll\":\"how will\",\n",
        "\"how're\":\"how are\",\n",
        "\"how's\":\"how is\",\n",
        "\"I'd\":\"I had\",\n",
        "\"I'd've\":\"I would have\",\n",
        "\"I'd'nt\":\"I would not\",\n",
        "\"I'd'nt've\":\"I would not have\",\n",
        "\"I'll\":\"I will\",\n",
        "\"I'm\":\"I am\",\n",
        "\"I've\":\"I have\",\n",
        "\"isn't\":\"is not\",\n",
        "\"it'd\":\"it would\",\n",
        "\"it'll\":\"it will\",\n",
        "\"it's\":\"it is\",\n",
        "\"let's\":\"let us\",\n",
        "\"ma'am\":\"madam\",\n",
        "\"mayn't\":\"may not\",\n",
        "\"may've\":\"may have\",\n",
        "\"mightn't\":\"might not\",\n",
        "\"might've\":\"might have\",\n",
        "\"mustn't\":\"must not\",\n",
        "\"mustn't've\":\"must not have\",\n",
        "\"must've\":\"must have\",\n",
        "\"needn't\":\"need not\",\n",
        "\"needn't've\":\"need not have\",\n",
        "\"o'clock\":\"of the clock\",\n",
        "\"oughtn't\":\"ought not\",\n",
        "\"oughtn't've\":\"ought not have\",\n",
        "\"shan't\":\"shall not\",\n",
        "\"she'd\":\"she would\",\n",
        "\"she'll\":\"she will\",\n",
        "\"she's\":\"she is\",\n",
        "\"should've\":\"should have\",\n",
        "\"shouldn't\":\"should not\",\n",
        "\"shouldn't've\":\"should not have\",\n",
        "\"somebody's\":\"somebody is\",\n",
        "\"someone's\":\"someone is\",\n",
        "\"something's\":\"something is\",\n",
        "\"so're\":\"so are\",\n",
        "\"so’s\":\"so is\",\n",
        "\"so’ve\":\"so have\",\n",
        "\"that'll\":\"that will\",\n",
        "\"that're\":\"that are\",\n",
        "\"that's\":\"that is\",\n",
        "\"that'd\":\"that would\",\n",
        "\"there'd\":\"there would\",\n",
        "\"there'll\":\"there will\",\n",
        "\"there're\":\"there are\",\n",
        "\"there's\":\"there is\",\n",
        "\"these're\":\"these are\",\n",
        "\"these've\":\"these have\",\n",
        "\"they'd\":\"they would\",\n",
        "\"they'll\":\"they will\",\n",
        "\"they're\":\"they are\",\n",
        "\"they've\":\"they have\",\n",
        "\"this's\":\"this is\",\n",
        "\"those're\":\"those are\",\n",
        "\"those've\":\"those have\",\n",
        "\"to've\":\"to have\",\n",
        "\"wasn't\":\"was not\",\n",
        "\"we'd\":\"we would\",\n",
        "\"we'd've\":\"we would have\",\n",
        "\"we'll\":\"we will\",\n",
        "\"we're\":\"we are\",\n",
        "\"we've\":\"we have\",\n",
        "\"weren't\":\"were not\",\n",
        "\"what'd\":\"what did\",\n",
        "\"what'll\":\"what will\",\n",
        "\"what're\":\"what are\",\n",
        "\"what's\":\"what is\",\n",
        "\"what've\":\"what have\",\n",
        "\"when's\":\"when is\",\n",
        "\"where'd\":\"where did\",\n",
        "\"where'll\":\"where will\",\n",
        "\"where're\":\"where are\",\n",
        "\"where's\":\"where is\",\n",
        "\"where've\":\"where have\",\n",
        "\"which'd\":\"which would\",\n",
        "\"which'll\":\"which will\",\n",
        "\"which're\":\"which are\",\n",
        "\"which's\":\"which is\",\n",
        "\"which've\":\"which have\",\n",
        "\"who'd\":\"who would\",\n",
        "\"who'd've\":\"who would have\",\n",
        "\"who'll\":\"who will\",\n",
        "\"who're\":\"who are\",\n",
        "\"who's\":\"who is\",\n",
        "\"who've\":\"who have\",\n",
        "\"why'd\":\"why did\",\n",
        "\"why're\":\"why are\",\n",
        "\"why's\":\"why is\",\n",
        "\"won't\":\"will not\",\n",
        "\"would've\":\"would have\",\n",
        "\"wouldn't\":\"would not\",\n",
        "\"wouldn't've\":\"would not have\",\n",
        "\"y'at\":\"you at\",\n",
        "\"yes’m\":\"yes madam\",\n",
        "\"you'd\":\"you would\",\n",
        "\"you'll\":\"you will\",\n",
        "\"you're\":\"you are\",\n",
        "\"you've\":\"you have\"}"
      ],
      "metadata": {
        "id": "RV2gS0d2u1RJ"
      },
      "execution_count": 12,
      "outputs": []
    },
    {
      "cell_type": "code",
      "source": [
        "def cont_to_exp(x):\n",
        "    if type(x) is str:\n",
        "        x = x.replace('\\\\','')\n",
        "        for key in contractions:\n",
        "            value = contractions[key]\n",
        "            x = x.replace(key, value)\n",
        "        return x\n",
        "    else:\n",
        "        return x"
      ],
      "metadata": {
        "id": "YKZ9baz5u-EM"
      },
      "execution_count": 13,
      "outputs": []
    },
    {
      "cell_type": "code",
      "source": [
        "df[\"Review Text\"] = df[\"Review Text\"].apply(lambda x:cont_to_exp(x))"
      ],
      "metadata": {
        "id": "zduTUrWRvBWd"
      },
      "execution_count": 14,
      "outputs": []
    },
    {
      "cell_type": "code",
      "source": [
        "df[\"Title\"] = df[\"Title\"].apply(lambda x:cont_to_exp(x))"
      ],
      "metadata": {
        "id": "jd1wcnsZvPOO"
      },
      "execution_count": 15,
      "outputs": []
    },
    {
      "cell_type": "code",
      "source": [
        "def clean_text(words):\n",
        "    \"\"\"The function to clean text\"\"\"\n",
        "    words = re.sub(\"[^a-zA-Z]\", \" \", words)\n",
        "    text = words.lower().split()\n",
        "    return \" \".join(text)\n",
        "def remove_numbers(text):\n",
        "    \"\"\"The function to removing all numbers\"\"\"\n",
        "    new_text = []\n",
        "    for word in text.split():\n",
        "        if not re.search('\\\\d', word):\n",
        "            new_text.append(word)\n",
        "    return ' '.join(new_text)"
      ],
      "metadata": {
        "id": "Jlyt4Kt9vIP8"
      },
      "execution_count": 16,
      "outputs": []
    },
    {
      "cell_type": "code",
      "source": [
        "df['Review Text'] = df['Review Text'].astype(str)\n",
        "df['Review Text'] = df['Review Text'].apply(clean_text)\n",
        "df['Review Text'] = df['Review Text'].apply(remove_numbers)"
      ],
      "metadata": {
        "id": "tv9AE2crvuvR"
      },
      "execution_count": 17,
      "outputs": []
    },
    {
      "cell_type": "code",
      "source": [
        "df.tail()"
      ],
      "metadata": {
        "colab": {
          "base_uri": "https://localhost:8080/",
          "height": 458
        },
        "id": "6nfw-ZPZv_Wp",
        "outputId": "7a51861c-3e12-4a86-a462-264722642b66"
      },
      "execution_count": 18,
      "outputs": [
        {
          "output_type": "execute_result",
          "data": {
            "text/plain": [
              "       Unnamed: 0  Clothing ID  Age  \\\n",
              "23481       23481         1104   34   \n",
              "23482       23482          862   48   \n",
              "23483       23483         1104   31   \n",
              "23484       23484         1084   28   \n",
              "23485       23485         1104   52   \n",
              "\n",
              "                                                   Title  \\\n",
              "23481                     Great dress for many occasions   \n",
              "23482                         Wish it was made of cotton   \n",
              "23483                              Cute, but see through   \n",
              "23484  Very cute dress, perfect for summer parties an...   \n",
              "23485                    Please make more like this one!   \n",
              "\n",
              "                                             Review Text  Rating  \\\n",
              "23481  i was very happy to snag this dress at such a ...       5   \n",
              "23482  it reminds me of maternity clothes soft stretc...       3   \n",
              "23483  this fit well but the top was very see through...       3   \n",
              "23484  i bought this dress for a wedding i have this ...       3   \n",
              "23485  this dress in a lovely platinum is feminine an...       5   \n",
              "\n",
              "       Positive Feedback Count   Division Name Department Name Category  \\\n",
              "23481                        0  General Petite         Dresses  Dresses   \n",
              "23482                        0  General Petite            Tops    Knits   \n",
              "23483                        1  General Petite         Dresses  Dresses   \n",
              "23484                        2         General         Dresses  Dresses   \n",
              "23485                       22  General Petite         Dresses  Dresses   \n",
              "\n",
              "       Recommended IND  \n",
              "23481                1  \n",
              "23482                1  \n",
              "23483                0  \n",
              "23484                1  \n",
              "23485                1  "
            ],
            "text/html": [
              "\n",
              "  <div id=\"df-84da4e4a-3824-4339-9a37-6cf910eb69c2\">\n",
              "    <div class=\"colab-df-container\">\n",
              "      <div>\n",
              "<style scoped>\n",
              "    .dataframe tbody tr th:only-of-type {\n",
              "        vertical-align: middle;\n",
              "    }\n",
              "\n",
              "    .dataframe tbody tr th {\n",
              "        vertical-align: top;\n",
              "    }\n",
              "\n",
              "    .dataframe thead th {\n",
              "        text-align: right;\n",
              "    }\n",
              "</style>\n",
              "<table border=\"1\" class=\"dataframe\">\n",
              "  <thead>\n",
              "    <tr style=\"text-align: right;\">\n",
              "      <th></th>\n",
              "      <th>Unnamed: 0</th>\n",
              "      <th>Clothing ID</th>\n",
              "      <th>Age</th>\n",
              "      <th>Title</th>\n",
              "      <th>Review Text</th>\n",
              "      <th>Rating</th>\n",
              "      <th>Positive Feedback Count</th>\n",
              "      <th>Division Name</th>\n",
              "      <th>Department Name</th>\n",
              "      <th>Category</th>\n",
              "      <th>Recommended IND</th>\n",
              "    </tr>\n",
              "  </thead>\n",
              "  <tbody>\n",
              "    <tr>\n",
              "      <th>23481</th>\n",
              "      <td>23481</td>\n",
              "      <td>1104</td>\n",
              "      <td>34</td>\n",
              "      <td>Great dress for many occasions</td>\n",
              "      <td>i was very happy to snag this dress at such a ...</td>\n",
              "      <td>5</td>\n",
              "      <td>0</td>\n",
              "      <td>General Petite</td>\n",
              "      <td>Dresses</td>\n",
              "      <td>Dresses</td>\n",
              "      <td>1</td>\n",
              "    </tr>\n",
              "    <tr>\n",
              "      <th>23482</th>\n",
              "      <td>23482</td>\n",
              "      <td>862</td>\n",
              "      <td>48</td>\n",
              "      <td>Wish it was made of cotton</td>\n",
              "      <td>it reminds me of maternity clothes soft stretc...</td>\n",
              "      <td>3</td>\n",
              "      <td>0</td>\n",
              "      <td>General Petite</td>\n",
              "      <td>Tops</td>\n",
              "      <td>Knits</td>\n",
              "      <td>1</td>\n",
              "    </tr>\n",
              "    <tr>\n",
              "      <th>23483</th>\n",
              "      <td>23483</td>\n",
              "      <td>1104</td>\n",
              "      <td>31</td>\n",
              "      <td>Cute, but see through</td>\n",
              "      <td>this fit well but the top was very see through...</td>\n",
              "      <td>3</td>\n",
              "      <td>1</td>\n",
              "      <td>General Petite</td>\n",
              "      <td>Dresses</td>\n",
              "      <td>Dresses</td>\n",
              "      <td>0</td>\n",
              "    </tr>\n",
              "    <tr>\n",
              "      <th>23484</th>\n",
              "      <td>23484</td>\n",
              "      <td>1084</td>\n",
              "      <td>28</td>\n",
              "      <td>Very cute dress, perfect for summer parties an...</td>\n",
              "      <td>i bought this dress for a wedding i have this ...</td>\n",
              "      <td>3</td>\n",
              "      <td>2</td>\n",
              "      <td>General</td>\n",
              "      <td>Dresses</td>\n",
              "      <td>Dresses</td>\n",
              "      <td>1</td>\n",
              "    </tr>\n",
              "    <tr>\n",
              "      <th>23485</th>\n",
              "      <td>23485</td>\n",
              "      <td>1104</td>\n",
              "      <td>52</td>\n",
              "      <td>Please make more like this one!</td>\n",
              "      <td>this dress in a lovely platinum is feminine an...</td>\n",
              "      <td>5</td>\n",
              "      <td>22</td>\n",
              "      <td>General Petite</td>\n",
              "      <td>Dresses</td>\n",
              "      <td>Dresses</td>\n",
              "      <td>1</td>\n",
              "    </tr>\n",
              "  </tbody>\n",
              "</table>\n",
              "</div>\n",
              "      <button class=\"colab-df-convert\" onclick=\"convertToInteractive('df-84da4e4a-3824-4339-9a37-6cf910eb69c2')\"\n",
              "              title=\"Convert this dataframe to an interactive table.\"\n",
              "              style=\"display:none;\">\n",
              "        \n",
              "  <svg xmlns=\"http://www.w3.org/2000/svg\" height=\"24px\"viewBox=\"0 0 24 24\"\n",
              "       width=\"24px\">\n",
              "    <path d=\"M0 0h24v24H0V0z\" fill=\"none\"/>\n",
              "    <path d=\"M18.56 5.44l.94 2.06.94-2.06 2.06-.94-2.06-.94-.94-2.06-.94 2.06-2.06.94zm-11 1L8.5 8.5l.94-2.06 2.06-.94-2.06-.94L8.5 2.5l-.94 2.06-2.06.94zm10 10l.94 2.06.94-2.06 2.06-.94-2.06-.94-.94-2.06-.94 2.06-2.06.94z\"/><path d=\"M17.41 7.96l-1.37-1.37c-.4-.4-.92-.59-1.43-.59-.52 0-1.04.2-1.43.59L10.3 9.45l-7.72 7.72c-.78.78-.78 2.05 0 2.83L4 21.41c.39.39.9.59 1.41.59.51 0 1.02-.2 1.41-.59l7.78-7.78 2.81-2.81c.8-.78.8-2.07 0-2.86zM5.41 20L4 18.59l7.72-7.72 1.47 1.35L5.41 20z\"/>\n",
              "  </svg>\n",
              "      </button>\n",
              "      \n",
              "  <style>\n",
              "    .colab-df-container {\n",
              "      display:flex;\n",
              "      flex-wrap:wrap;\n",
              "      gap: 12px;\n",
              "    }\n",
              "\n",
              "    .colab-df-convert {\n",
              "      background-color: #E8F0FE;\n",
              "      border: none;\n",
              "      border-radius: 50%;\n",
              "      cursor: pointer;\n",
              "      display: none;\n",
              "      fill: #1967D2;\n",
              "      height: 32px;\n",
              "      padding: 0 0 0 0;\n",
              "      width: 32px;\n",
              "    }\n",
              "\n",
              "    .colab-df-convert:hover {\n",
              "      background-color: #E2EBFA;\n",
              "      box-shadow: 0px 1px 2px rgba(60, 64, 67, 0.3), 0px 1px 3px 1px rgba(60, 64, 67, 0.15);\n",
              "      fill: #174EA6;\n",
              "    }\n",
              "\n",
              "    [theme=dark] .colab-df-convert {\n",
              "      background-color: #3B4455;\n",
              "      fill: #D2E3FC;\n",
              "    }\n",
              "\n",
              "    [theme=dark] .colab-df-convert:hover {\n",
              "      background-color: #434B5C;\n",
              "      box-shadow: 0px 1px 3px 1px rgba(0, 0, 0, 0.15);\n",
              "      filter: drop-shadow(0px 1px 2px rgba(0, 0, 0, 0.3));\n",
              "      fill: #FFFFFF;\n",
              "    }\n",
              "  </style>\n",
              "\n",
              "      <script>\n",
              "        const buttonEl =\n",
              "          document.querySelector('#df-84da4e4a-3824-4339-9a37-6cf910eb69c2 button.colab-df-convert');\n",
              "        buttonEl.style.display =\n",
              "          google.colab.kernel.accessAllowed ? 'block' : 'none';\n",
              "\n",
              "        async function convertToInteractive(key) {\n",
              "          const element = document.querySelector('#df-84da4e4a-3824-4339-9a37-6cf910eb69c2');\n",
              "          const dataTable =\n",
              "            await google.colab.kernel.invokeFunction('convertToInteractive',\n",
              "                                                     [key], {});\n",
              "          if (!dataTable) return;\n",
              "\n",
              "          const docLinkHtml = 'Like what you see? Visit the ' +\n",
              "            '<a target=\"_blank\" href=https://colab.research.google.com/notebooks/data_table.ipynb>data table notebook</a>'\n",
              "            + ' to learn more about interactive tables.';\n",
              "          element.innerHTML = '';\n",
              "          dataTable['output_type'] = 'display_data';\n",
              "          await google.colab.output.renderOutput(dataTable, element);\n",
              "          const docLink = document.createElement('div');\n",
              "          docLink.innerHTML = docLinkHtml;\n",
              "          element.appendChild(docLink);\n",
              "        }\n",
              "      </script>\n",
              "    </div>\n",
              "  </div>\n",
              "  "
            ]
          },
          "metadata": {},
          "execution_count": 18
        }
      ]
    },
    {
      "cell_type": "markdown",
      "source": [
        "## Q2. Separate the columns into dependent and independent variables (or features and labels). Then you split those variables into train and test sets (80:20)."
      ],
      "metadata": {
        "id": "8QWthA9G1daj"
      }
    },
    {
      "cell_type": "code",
      "source": [
        "text_data = df['Review Text']\n",
        "recommedation = df['Recommended IND']"
      ],
      "metadata": {
        "id": "2UZqigs6wMh7"
      },
      "execution_count": 19,
      "outputs": []
    },
    {
      "cell_type": "code",
      "source": [
        "X_train, X_test, y_train, y_test = train_test_split(text_data, recommedation, test_size=0.2, random_state=42)"
      ],
      "metadata": {
        "id": "WExDlxqIyUIy"
      },
      "execution_count": 20,
      "outputs": []
    },
    {
      "cell_type": "markdown",
      "source": [
        "## Q3. Apply the Naïve Bayes Classification Algorithm on Sentiment category to predict if item is recommended"
      ],
      "metadata": {
        "id": "TKblynlA1keI"
      }
    },
    {
      "cell_type": "markdown",
      "source": [
        "Naive Bayes classifier for multinomial models.\n",
        "\n",
        "The multinomial Naive Bayes classifier is suitable for classification with discrete features (e.g., word counts for text classification). The multinomial distribution normally requires integer feature counts. However, in practice, fractional counts such as tf-idf may also work.\n",
        "\n"
      ],
      "metadata": {
        "id": "rKZ3IpN11oKe"
      }
    },
    {
      "cell_type": "code",
      "source": [
        "Pipe = Pipeline([\n",
        "    ('bow',CountVectorizer()),\n",
        "    ('tfidf',TfidfTransformer()),\n",
        "    ('classifier',MultinomialNB())\n",
        "])\n",
        "\n",
        "#Fitting our dataset in the pipeline\n",
        "\n",
        "Pipe.fit(X_train,y_train)"
      ],
      "metadata": {
        "colab": {
          "base_uri": "https://localhost:8080/"
        },
        "id": "FOhKrhxcwy9S",
        "outputId": "71ad0e02-5927-4987-aa66-02b8dc1154b0"
      },
      "execution_count": 21,
      "outputs": [
        {
          "output_type": "execute_result",
          "data": {
            "text/plain": [
              "Pipeline(steps=[('bow', CountVectorizer()), ('tfidf', TfidfTransformer()),\n",
              "                ('classifier', MultinomialNB())])"
            ]
          },
          "metadata": {},
          "execution_count": 21
        }
      ]
    },
    {
      "cell_type": "code",
      "source": [
        "Pipe.score(X_test,y_test)"
      ],
      "metadata": {
        "colab": {
          "base_uri": "https://localhost:8080/"
        },
        "id": "AKkAAwUnylTO",
        "outputId": "e2abd0ab-1630-45a8-d5d3-466eb8edad11"
      },
      "execution_count": 22,
      "outputs": [
        {
          "output_type": "execute_result",
          "data": {
            "text/plain": [
              "0.814936847885777"
            ]
          },
          "metadata": {},
          "execution_count": 22
        }
      ]
    },
    {
      "cell_type": "markdown",
      "source": [
        "## Q4. Tabulate accuracy in terms of precision, recall and F1 score."
      ],
      "metadata": {
        "id": "YBSbI-jI1xV9"
      }
    },
    {
      "cell_type": "code",
      "source": [
        "y_pred = Pipe.predict(X_test)\n",
        "print('confusion matrix :\\n',confusion_matrix(y_test,y_pred))\n",
        "print('precision_score :\\n',precision_score(y_test,y_pred,pos_label=1))\n",
        "print('recall_score :\\n',recall_score(y_test,y_pred,pos_label=1))\n",
        "print('classification_report :\\n',classification_report(y_test,y_pred))"
      ],
      "metadata": {
        "colab": {
          "base_uri": "https://localhost:8080/"
        },
        "id": "h-EMqe5gyrbU",
        "outputId": "c444ce67-9198-41d7-df69-662d8c7d25a4"
      },
      "execution_count": 23,
      "outputs": [
        {
          "output_type": "stream",
          "name": "stdout",
          "text": [
            "confusion matrix :\n",
            " [[   7  674]\n",
            " [   0 2961]]\n",
            "precision_score :\n",
            " 0.8145804676753783\n",
            "recall_score :\n",
            " 1.0\n",
            "classification_report :\n",
            "               precision    recall  f1-score   support\n",
            "\n",
            "           0       1.00      0.01      0.02       681\n",
            "           1       0.81      1.00      0.90      2961\n",
            "\n",
            "    accuracy                           0.81      3642\n",
            "   macro avg       0.91      0.51      0.46      3642\n",
            "weighted avg       0.85      0.81      0.73      3642\n",
            "\n"
          ]
        }
      ]
    },
    {
      "cell_type": "code",
      "source": [
        "plt.figure(figsize=(5,4))\n",
        "sns.heatmap(confusion_matrix(y_test,y_pred), annot=True)"
      ],
      "metadata": {
        "colab": {
          "base_uri": "https://localhost:8080/",
          "height": 283
        },
        "id": "403rib5BzKoh",
        "outputId": "ffe83b58-975a-4fa8-ae44-79fd9c6cfbc4"
      },
      "execution_count": 24,
      "outputs": [
        {
          "output_type": "execute_result",
          "data": {
            "text/plain": [
              "<matplotlib.axes._subplots.AxesSubplot at 0x7f110c6f4d10>"
            ]
          },
          "metadata": {},
          "execution_count": 24
        },
        {
          "output_type": "display_data",
          "data": {
            "text/plain": [
              "<Figure size 360x288 with 2 Axes>"
            ],
            "image/png": "[encoded data removed]"
          },
          "metadata": {
            "needs_background": "light"
          }
        }
      ]
    },
    {
      "cell_type": "code",
      "source": [
        "confusion_matrix1 = confusion_matrix(y_test,y_pred)\n",
        "FN = confusion_matrix1[0][1]\n",
        "FP = confusion_matrix1[1][0]\n",
        "TP = confusion_matrix1[1][1]\n",
        "TN = confusion_matrix1[0][0]\n",
        "TPR = TP/(TP+FN)\n",
        "TNR = TN /(TN+FP)\n",
        "FPR=1-TPR\n",
        "FNR=1-TNR\n",
        "print(\"True Positive Rate - \"+str(TPR))\n",
        "print(\"True Negative Rate - \"+str(TNR))\n",
        "print(\"False Positive Rate - \"+str(FPR))\n",
        "print(\"False Negative Rate - \"+str(FNR))\n",
        "print(\"Sensitivity - \"+str(TPR))\n",
        "print(\"Specificity - \"+str(TNR))"
      ],
      "metadata": {
        "colab": {
          "base_uri": "https://localhost:8080/"
        },
        "id": "ZuACw7FwzmkD",
        "outputId": "906de8d1-4e1e-424c-f7a4-a5542bf2350b"
      },
      "execution_count": 25,
      "outputs": [
        {
          "output_type": "stream",
          "name": "stdout",
          "text": [
            "True Positive Rate - 0.8145804676753783\n",
            "True Negative Rate - 1.0\n",
            "False Positive Rate - 0.18541953232462172\n",
            "False Negative Rate - 0.0\n",
            "Sensitivity - 0.8145804676753783\n",
            "Specificity - 1.0\n"
          ]
        }
      ]
    }
  ]
}