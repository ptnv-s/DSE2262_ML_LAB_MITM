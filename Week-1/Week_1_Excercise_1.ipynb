{
  "cells": [
    {
      "cell_type": "markdown",
      "id": "4d5dbb6a",
      "metadata": {
        "id": "4d5dbb6a"
      },
      "source": [
        "# DSE 2262 MACHINE LEARNING LABORATORY\n"
      ]
    },
    {
      "cell_type": "markdown",
      "id": "205ca7ba",
      "metadata": {
        "id": "205ca7ba"
      },
      "source": [
        "## Week 1 - Excercise -1"
      ]
    },
    {
      "cell_type": "markdown",
      "id": "4811ec80",
      "metadata": {
        "id": "4811ec80"
      },
      "source": [
        "#### Dataset Meta-Data about mtcars.csv"
      ]
    },
    {
      "cell_type": "markdown",
      "id": "36765ae2",
      "metadata": {
        "id": "36765ae2"
      },
      "source": [
        "### Let us first explore what this dataset is about \n",
        "\n",
        "### This is done by going through its meta data.\n",
        "\n",
        "mtcars: Motor Trend Car Road Tests\n",
        "\n",
        "**Description:**\n",
        "\n",
        "The data was extracted from the 1974 Motor Trend US magazine, and comprises fuel consumption and 10 aspects of automobile design and performance for 32 automobiles (1973--74 models).\n",
        "\n",
        "**Format**\n",
        "\n",
        "A data frame with 32 observations on 11 (numeric) variables.\n",
        "\n",
        "[, 1]\tmpg\tMiles/(US) gallon\n",
        "\n",
        "[, 2]\tcyl\tNumber of cylinders\n",
        "\n",
        "[, 3]\tdisp\tDisplacement (cu.in.)\n",
        "\n",
        "[, 4]\thp\tGross horsepower\n",
        "\n",
        "[, 5]\tdrat\tRear axle ratio\n",
        "\n",
        "[, 6]\twt\tWeight (1000 lbs)\n",
        "\n",
        "[, 7]\tqsec\t1/4 mile time\n",
        "\n",
        "[, 8]\tvs\tEngine (0 = V-shaped, 1 = straight)\n",
        "\n",
        "[, 9]\tam\tTransmission (0 = automatic, 1 = manual)\n",
        "\n",
        "[, 10]\tgear\tNumber of forward gears"
      ]
    },
    {
      "cell_type": "markdown",
      "id": "3a2f5b4e",
      "metadata": {
        "id": "3a2f5b4e"
      },
      "source": [
        "#### Loading Dataset and Libraries"
      ]
    },
    {
      "cell_type": "code",
      "execution_count": 25,
      "id": "828c5ab9",
      "metadata": {
        "id": "828c5ab9"
      },
      "outputs": [],
      "source": [
        "import numpy as np\n",
        "import pandas as pd\n",
        "import matplotlib.pyplot as plt\n",
        "import random"
      ]
    },
    {
      "cell_type": "code",
      "execution_count": 26,
      "id": "cc8b5ed7",
      "metadata": {
        "id": "cc8b5ed7"
      },
      "outputs": [],
      "source": [
        "df = pd.read_csv(\"mtcars.csv\")"
      ]
    },
    {
      "cell_type": "code",
      "execution_count": 27,
      "id": "48ab1289",
      "metadata": {
        "scrolled": true,
        "colab": {
          "base_uri": "https://localhost:8080/",
          "height": 206
        },
        "id": "48ab1289",
        "outputId": "705dd718-a5f6-433f-e5cc-551975d47bfc"
      },
      "outputs": [
        {
          "output_type": "execute_result",
          "data": {
            "text/plain": [
              "               model   mpg  cyl   disp   hp  drat     wt   qsec  vs  am  gear  \\\n",
              "0          Mazda RX4  21.0    6  160.0  110  3.90  2.620  16.46   0   1     4   \n",
              "1      Mazda RX4 Wag  21.0    6  160.0  110  3.90  2.875  17.02   0   1     4   \n",
              "2         Datsun 710  22.8    4  108.0   93  3.85  2.320  18.61   1   1     4   \n",
              "3     Hornet 4 Drive  21.4    6  258.0  110  3.08  3.215  19.44   1   0     3   \n",
              "4  Hornet Sportabout  18.7    8  360.0  175  3.15  3.440  17.02   0   0     3   \n",
              "\n",
              "   carb  \n",
              "0     4  \n",
              "1     4  \n",
              "2     1  \n",
              "3     1  \n",
              "4     2  "
            ],
            "text/html": [
              "\n",
              "  <div id=\"df-56ff65b3-efbd-422b-b630-327c82f99393\">\n",
              "    <div class=\"colab-df-container\">\n",
              "      <div>\n",
              "<style scoped>\n",
              "    .dataframe tbody tr th:only-of-type {\n",
              "        vertical-align: middle;\n",
              "    }\n",
              "\n",
              "    .dataframe tbody tr th {\n",
              "        vertical-align: top;\n",
              "    }\n",
              "\n",
              "    .dataframe thead th {\n",
              "        text-align: right;\n",
              "    }\n",
              "</style>\n",
              "<table border=\"1\" class=\"dataframe\">\n",
              "  <thead>\n",
              "    <tr style=\"text-align: right;\">\n",
              "      <th></th>\n",
              "      <th>model</th>\n",
              "      <th>mpg</th>\n",
              "      <th>cyl</th>\n",
              "      <th>disp</th>\n",
              "      <th>hp</th>\n",
              "      <th>drat</th>\n",
              "      <th>wt</th>\n",
              "      <th>qsec</th>\n",
              "      <th>vs</th>\n",
              "      <th>am</th>\n",
              "      <th>gear</th>\n",
              "      <th>carb</th>\n",
              "    </tr>\n",
              "  </thead>\n",
              "  <tbody>\n",
              "    <tr>\n",
              "      <th>0</th>\n",
              "      <td>Mazda RX4</td>\n",
              "      <td>21.0</td>\n",
              "      <td>6</td>\n",
              "      <td>160.0</td>\n",
              "      <td>110</td>\n",
              "      <td>3.90</td>\n",
              "      <td>2.620</td>\n",
              "      <td>16.46</td>\n",
              "      <td>0</td>\n",
              "      <td>1</td>\n",
              "      <td>4</td>\n",
              "      <td>4</td>\n",
              "    </tr>\n",
              "    <tr>\n",
              "      <th>1</th>\n",
              "      <td>Mazda RX4 Wag</td>\n",
              "      <td>21.0</td>\n",
              "      <td>6</td>\n",
              "      <td>160.0</td>\n",
              "      <td>110</td>\n",
              "      <td>3.90</td>\n",
              "      <td>2.875</td>\n",
              "      <td>17.02</td>\n",
              "      <td>0</td>\n",
              "      <td>1</td>\n",
              "      <td>4</td>\n",
              "      <td>4</td>\n",
              "    </tr>\n",
              "    <tr>\n",
              "      <th>2</th>\n",
              "      <td>Datsun 710</td>\n",
              "      <td>22.8</td>\n",
              "      <td>4</td>\n",
              "      <td>108.0</td>\n",
              "      <td>93</td>\n",
              "      <td>3.85</td>\n",
              "      <td>2.320</td>\n",
              "      <td>18.61</td>\n",
              "      <td>1</td>\n",
              "      <td>1</td>\n",
              "      <td>4</td>\n",
              "      <td>1</td>\n",
              "    </tr>\n",
              "    <tr>\n",
              "      <th>3</th>\n",
              "      <td>Hornet 4 Drive</td>\n",
              "      <td>21.4</td>\n",
              "      <td>6</td>\n",
              "      <td>258.0</td>\n",
              "      <td>110</td>\n",
              "      <td>3.08</td>\n",
              "      <td>3.215</td>\n",
              "      <td>19.44</td>\n",
              "      <td>1</td>\n",
              "      <td>0</td>\n",
              "      <td>3</td>\n",
              "      <td>1</td>\n",
              "    </tr>\n",
              "    <tr>\n",
              "      <th>4</th>\n",
              "      <td>Hornet Sportabout</td>\n",
              "      <td>18.7</td>\n",
              "      <td>8</td>\n",
              "      <td>360.0</td>\n",
              "      <td>175</td>\n",
              "      <td>3.15</td>\n",
              "      <td>3.440</td>\n",
              "      <td>17.02</td>\n",
              "      <td>0</td>\n",
              "      <td>0</td>\n",
              "      <td>3</td>\n",
              "      <td>2</td>\n",
              "    </tr>\n",
              "  </tbody>\n",
              "</table>\n",
              "</div>\n",
              "      <button class=\"colab-df-convert\" onclick=\"convertToInteractive('df-56ff65b3-efbd-422b-b630-327c82f99393')\"\n",
              "              title=\"Convert this dataframe to an interactive table.\"\n",
              "              style=\"display:none;\">\n",
              "        \n",
              "  <svg xmlns=\"http://www.w3.org/2000/svg\" height=\"24px\"viewBox=\"0 0 24 24\"\n",
              "       width=\"24px\">\n",
              "    <path d=\"M0 0h24v24H0V0z\" fill=\"none\"/>\n",
              "    <path d=\"M18.56 5.44l.94 2.06.94-2.06 2.06-.94-2.06-.94-.94-2.06-.94 2.06-2.06.94zm-11 1L8.5 8.5l.94-2.06 2.06-.94-2.06-.94L8.5 2.5l-.94 2.06-2.06.94zm10 10l.94 2.06.94-2.06 2.06-.94-2.06-.94-.94-2.06-.94 2.06-2.06.94z\"/><path d=\"M17.41 7.96l-1.37-1.37c-.4-.4-.92-.59-1.43-.59-.52 0-1.04.2-1.43.59L10.3 9.45l-7.72 7.72c-.78.78-.78 2.05 0 2.83L4 21.41c.39.39.9.59 1.41.59.51 0 1.02-.2 1.41-.59l7.78-7.78 2.81-2.81c.8-.78.8-2.07 0-2.86zM5.41 20L4 18.59l7.72-7.72 1.47 1.35L5.41 20z\"/>\n",
              "  </svg>\n",
              "      </button>\n",
              "      \n",
              "  <style>\n",
              "    .colab-df-container {\n",
              "      display:flex;\n",
              "      flex-wrap:wrap;\n",
              "      gap: 12px;\n",
              "    }\n",
              "\n",
              "    .colab-df-convert {\n",
              "      background-color: #E8F0FE;\n",
              "      border: none;\n",
              "      border-radius: 50%;\n",
              "      cursor: pointer;\n",
              "      display: none;\n",
              "      fill: #1967D2;\n",
              "      height: 32px;\n",
              "      padding: 0 0 0 0;\n",
              "      width: 32px;\n",
              "    }\n",
              "\n",
              "    .colab-df-convert:hover {\n",
              "      background-color: #E2EBFA;\n",
              "      box-shadow: 0px 1px 2px rgba(60, 64, 67, 0.3), 0px 1px 3px 1px rgba(60, 64, 67, 0.15);\n",
              "      fill: #174EA6;\n",
              "    }\n",
              "\n",
              "    [theme=dark] .colab-df-convert {\n",
              "      background-color: #3B4455;\n",
              "      fill: #D2E3FC;\n",
              "    }\n",
              "\n",
              "    [theme=dark] .colab-df-convert:hover {\n",
              "      background-color: #434B5C;\n",
              "      box-shadow: 0px 1px 3px 1px rgba(0, 0, 0, 0.15);\n",
              "      filter: drop-shadow(0px 1px 2px rgba(0, 0, 0, 0.3));\n",
              "      fill: #FFFFFF;\n",
              "    }\n",
              "  </style>\n",
              "\n",
              "      <script>\n",
              "        const buttonEl =\n",
              "          document.querySelector('#df-56ff65b3-efbd-422b-b630-327c82f99393 button.colab-df-convert');\n",
              "        buttonEl.style.display =\n",
              "          google.colab.kernel.accessAllowed ? 'block' : 'none';\n",
              "\n",
              "        async function convertToInteractive(key) {\n",
              "          const element = document.querySelector('#df-56ff65b3-efbd-422b-b630-327c82f99393');\n",
              "          const dataTable =\n",
              "            await google.colab.kernel.invokeFunction('convertToInteractive',\n",
              "                                                     [key], {});\n",
              "          if (!dataTable) return;\n",
              "\n",
              "          const docLinkHtml = 'Like what you see? Visit the ' +\n",
              "            '<a target=\"_blank\" href=https://colab.research.google.com/notebooks/data_table.ipynb>data table notebook</a>'\n",
              "            + ' to learn more about interactive tables.';\n",
              "          element.innerHTML = '';\n",
              "          dataTable['output_type'] = 'display_data';\n",
              "          await google.colab.output.renderOutput(dataTable, element);\n",
              "          const docLink = document.createElement('div');\n",
              "          docLink.innerHTML = docLinkHtml;\n",
              "          element.appendChild(docLink);\n",
              "        }\n",
              "      </script>\n",
              "    </div>\n",
              "  </div>\n",
              "  "
            ]
          },
          "metadata": {},
          "execution_count": 27
        }
      ],
      "source": [
        "df.head()"
      ]
    },
    {
      "cell_type": "markdown",
      "id": "31660f6b",
      "metadata": {
        "id": "31660f6b"
      },
      "source": [
        "##### Plotting Scatter-plot to visualize correlation between weight and mpg."
      ]
    },
    {
      "cell_type": "code",
      "execution_count": 28,
      "id": "53174d3f",
      "metadata": {
        "colab": {
          "base_uri": "https://localhost:8080/",
          "height": 287
        },
        "id": "53174d3f",
        "outputId": "ef2639af-961a-4dcc-e80c-c2ed91d9ff2d"
      },
      "outputs": [
        {
          "output_type": "execute_result",
          "data": {
            "text/plain": [
              "<matplotlib.collections.PathCollection at 0x7f54ccf99210>"
            ]
          },
          "metadata": {},
          "execution_count": 28
        },
        {
          "output_type": "display_data",
          "data": {
            "text/plain": [
              "<Figure size 432x288 with 1 Axes>"
            ],
            "image/png": "[encoded data removed]"
          },
          "metadata": {
            "needs_background": "light"
          }
        }
      ],
      "source": [
        "plt.scatter(df['wt'].to_numpy(),df['mpg'].to_numpy())"
      ]
    },
    {
      "cell_type": "markdown",
      "id": "279b64a8",
      "metadata": {
        "id": "279b64a8"
      },
      "source": [
        "### Q1. Write a user defined function ‘myFnLinReg(x,y)’ to perform Simple Linear Regression given one predictor attribute and one response attribute. The function should return the coefficients of the straight line.\n"
      ]
    },
    {
      "cell_type": "markdown",
      "id": "8dee2584",
      "metadata": {
        "id": "8dee2584"
      },
      "source": [
        "##### Helper Functions for myFnLinReg(x,y)"
      ]
    },
    {
      "cell_type": "code",
      "execution_count": 29,
      "id": "b8df0d1c",
      "metadata": {
        "id": "b8df0d1c"
      },
      "outputs": [],
      "source": [
        "def data_iterator(features, labels):\n",
        "    num_examples = len(features)\n",
        "    indices = list(range(num_examples))\n",
        "    random.shuffle(indices)\n",
        "    yield features, labels\n",
        "\n",
        "def linreg(X, w, b):\n",
        "    return np.dot(X, w) + b\n",
        "\n",
        "def sgd(w, b, lr,l1,X):\n",
        "    batch_size = len(X)\n",
        "    b = b - lr * np.sum(l1) / batch_size\n",
        "    w = w - lr * np.dot(X.T,l1) / batch_size\n",
        "    return w,b\n",
        "\n",
        "def squared_loss(y_hat, y):\n",
        "    return (y_hat - y.reshape(y_hat.shape)) ** 2 / 2\n",
        "\n",
        "def loss(y_hat, y):\n",
        "    return (y_hat - y.reshape(y_hat.shape))"
      ]
    },
    {
      "cell_type": "markdown",
      "id": "54e4784f",
      "metadata": {
        "id": "54e4784f"
      },
      "source": [
        "#### Main code for myFnLinReg(x,y)"
      ]
    },
    {
      "cell_type": "markdown",
      "source": [
        "We have implemented Batch Gradient Descent"
      ],
      "metadata": {
        "id": "I9MQpxY5OIaR"
      },
      "id": "I9MQpxY5OIaR"
    },
    {
      "cell_type": "code",
      "execution_count": 30,
      "id": "3db565ba",
      "metadata": {
        "id": "3db565ba"
      },
      "outputs": [],
      "source": [
        "lr = 0.1 #learning rate for gradient descent\n",
        "num_epochs = 500 #no of epochs for which we will train\n",
        "\n",
        "def myFnLinReg(X_1, y_1):\n",
        "    cost_func_graph = []\n",
        "    w = np.random.normal(0, 0.01, (1, 1))\n",
        "    b = np.zeros(1)\n",
        "    for epoch in range(num_epochs):\n",
        "        for X, y in data_iterator(X_1, y_1):\n",
        "            l = squared_loss(linreg(X, w, b), y)  \n",
        "            l1 = loss(linreg(X, w, b), y)\n",
        "            l2 = np.sum(l1)\n",
        "            w,b = sgd(w, b, lr,l1,X)\n",
        "        cost_func_graph.append(float(squared_loss(linreg(X, w, b), y).mean()))\n",
        "        if epoch%20 == 0:\n",
        "            train_l = loss(linreg(X_1, w, b), y_1)\n",
        "            train_l2 = squared_loss(linreg(X, w, b), y)\n",
        "            print(f'epoch {epoch + 1}, loss {float(train_l.mean()):f},cost/loss-mse {float(train_l2.mean()):f}')\n",
        "    arr = np.array(cost_func_graph)\n",
        "    print(arr.shape)\n",
        "    plt.plot(arr)\n",
        "    plt.show()\n",
        "    return w,b"
      ]
    },
    {
      "cell_type": "markdown",
      "id": "91cad6c0",
      "metadata": {
        "id": "91cad6c0"
      },
      "source": [
        "### Q2. Use mtcars data set and consider the attributes mpg and weight. Split data into train and test sets (80 %,20%). Put training data set to ‘myFnLinReg(x,y)’ to build a linear regression model to predict mpg given the weight of the car.\n"
      ]
    },
    {
      "cell_type": "markdown",
      "id": "ecfa9414",
      "metadata": {
        "id": "ecfa9414"
      },
      "source": [
        "Converting dataseries of dataset to numpy array for easier working for further questions"
      ]
    },
    {
      "cell_type": "code",
      "execution_count": 31,
      "id": "9255c823",
      "metadata": {
        "id": "9255c823"
      },
      "outputs": [],
      "source": [
        "X_1 = df['wt'].to_numpy().reshape(-1,1)\n",
        "y_1 = df['mpg'].to_numpy().reshape(-1,1)"
      ]
    },
    {
      "cell_type": "code",
      "execution_count": 32,
      "id": "ba91d899",
      "metadata": {
        "id": "ba91d899"
      },
      "outputs": [],
      "source": [
        "from sklearn.model_selection import train_test_split\n",
        "X_train, X_test, y_train, y_test = train_test_split(X_1, y_1, test_size=0.20, random_state=42)"
      ]
    },
    {
      "cell_type": "code",
      "execution_count": 33,
      "id": "ed0b7fe5",
      "metadata": {
        "colab": {
          "base_uri": "https://localhost:8080/",
          "height": 737
        },
        "id": "ed0b7fe5",
        "outputId": "09e17e44-e235-4691-ebc6-d3db0d367cbc"
      },
      "outputs": [
        {
          "output_type": "stream",
          "name": "stdout",
          "text": [
            "epoch 1, loss 0.234114,cost/loss-mse 61.132743\n",
            "epoch 21, loss -2.348034,cost/loss-mse 42.224656\n",
            "epoch 41, loss -2.007275,cost/loss-mse 31.904539\n",
            "epoch 61, loss -1.715969,cost/loss-mse 24.362483\n",
            "epoch 81, loss -1.466939,cost/loss-mse 18.850667\n",
            "epoch 101, loss -1.254049,cost/loss-mse 14.822571\n",
            "epoch 121, loss -1.072055,cost/loss-mse 11.878794\n",
            "epoch 141, loss -0.916473,cost/loss-mse 9.727450\n",
            "epoch 161, loss -0.783469,cost/loss-mse 8.155224\n",
            "epoch 181, loss -0.669768,cost/loss-mse 7.006224\n",
            "epoch 201, loss -0.572568,cost/loss-mse 6.166523\n",
            "epoch 221, loss -0.489474,cost/loss-mse 5.552859\n",
            "epoch 241, loss -0.418439,cost/loss-mse 5.104388\n",
            "epoch 261, loss -0.357713,cost/loss-mse 4.776640\n",
            "epoch 281, loss -0.305800,cost/loss-mse 4.537118\n",
            "epoch 301, loss -0.261421,cost/loss-mse 4.362072\n",
            "epoch 321, loss -0.223482,cost/loss-mse 4.234147\n",
            "epoch 341, loss -0.191049,cost/loss-mse 4.140658\n",
            "epoch 361, loss -0.163323,cost/loss-mse 4.072336\n",
            "epoch 381, loss -0.139621,cost/loss-mse 4.022405\n",
            "epoch 401, loss -0.119358,cost/loss-mse 3.985915\n",
            "epoch 421, loss -0.102036,cost/loss-mse 3.959247\n",
            "epoch 441, loss -0.087228,cost/loss-mse 3.939758\n",
            "epoch 461, loss -0.074569,cost/loss-mse 3.925516\n",
            "epoch 481, loss -0.063747,cost/loss-mse 3.915107\n",
            "(500,)\n"
          ]
        },
        {
          "output_type": "display_data",
          "data": {
            "text/plain": [
              "<Figure size 432x288 with 1 Axes>"
            ],
            "image/png": "[encoded data removed]"
          },
          "metadata": {
            "needs_background": "light"
          }
        }
      ],
      "source": [
        "w1,b1 = myFnLinReg(X_train, y_train)"
      ]
    },
    {
      "cell_type": "markdown",
      "id": "98762717",
      "metadata": {
        "id": "98762717"
      },
      "source": [
        "### Q3. What is the mpg of a car, whose weight is 5.5?"
      ]
    },
    {
      "cell_type": "code",
      "execution_count": 34,
      "id": "690eb5bf",
      "metadata": {
        "colab": {
          "base_uri": "https://localhost:8080/"
        },
        "id": "690eb5bf",
        "outputId": "5fd864b2-313f-4b2e-c49c-345cb249e465"
      },
      "outputs": [
        {
          "output_type": "stream",
          "name": "stdout",
          "text": [
            "[[8.01577193]]\n"
          ]
        }
      ],
      "source": [
        "y_q3 = (5.5)*(w1) + b1\n",
        "print(y_q3)"
      ]
    },
    {
      "cell_type": "markdown",
      "id": "a040f7ee",
      "metadata": {
        "id": "a040f7ee"
      },
      "source": [
        "### Q4. Compute and print accuracy measures such as RMSE and R2 for the test set"
      ]
    },
    {
      "cell_type": "code",
      "execution_count": 35,
      "id": "64b06377",
      "metadata": {
        "id": "64b06377"
      },
      "outputs": [],
      "source": [
        "def rmse(y_pred,y_hat):\n",
        "    m = y_pred.shape[0]\n",
        "    diff = np.sum((y_pred - y_hat)**2)\n",
        "    loss = (1/m)*((diff))**0.5\n",
        "    return loss\n",
        "def r2_score(y_pred,y_hat):\n",
        "    ssr = np.sum((y_pred - y_hat)**2)\n",
        "    mean = np.mean(y_hat)\n",
        "    sst = np.sum((y_hat - mean)**2)\n",
        "    score = 1- ssr/sst\n",
        "    return score"
      ]
    },
    {
      "cell_type": "code",
      "execution_count": 36,
      "id": "23e0eb78",
      "metadata": {
        "id": "23e0eb78"
      },
      "outputs": [],
      "source": [
        "y_pred = X_test*(w1) + b1"
      ]
    },
    {
      "cell_type": "code",
      "execution_count": 37,
      "id": "cad05a4a",
      "metadata": {
        "scrolled": false,
        "colab": {
          "base_uri": "https://localhost:8080/"
        },
        "id": "cad05a4a",
        "outputId": "dbf33c4f-1136-4852-e0b8-161815c91b4d"
      },
      "outputs": [
        {
          "output_type": "execute_result",
          "data": {
            "text/plain": [
              "0.6837841673323214"
            ]
          },
          "metadata": {},
          "execution_count": 37
        }
      ],
      "source": [
        "r2_score(y_pred,y_test)"
      ]
    },
    {
      "cell_type": "code",
      "execution_count": 38,
      "id": "60e0ad57",
      "metadata": {
        "colab": {
          "base_uri": "https://localhost:8080/"
        },
        "id": "60e0ad57",
        "outputId": "1c74383a-43bd-4f3f-a014-ea3d189ac4c9"
      },
      "outputs": [
        {
          "output_type": "execute_result",
          "data": {
            "text/plain": [
              "1.3439600157169758"
            ]
          },
          "metadata": {},
          "execution_count": 38
        }
      ],
      "source": [
        "rmse(y_pred,y_test)"
      ]
    },
    {
      "cell_type": "markdown",
      "id": "8d6f05ba",
      "metadata": {
        "id": "8d6f05ba"
      },
      "source": [
        "### Q5. Apply the stochastic gradient descent and mini batch gradient descent algorithms to enhance the accuracy and visualize the cost function."
      ]
    },
    {
      "cell_type": "markdown",
      "id": "31903ab6",
      "metadata": {
        "id": "31903ab6"
      },
      "source": [
        "##### Helper Functions for myFnLinReg(x,y)"
      ]
    },
    {
      "cell_type": "code",
      "execution_count": 39,
      "id": "f5174f6d",
      "metadata": {
        "id": "f5174f6d"
      },
      "outputs": [],
      "source": [
        "def data_iter(batch_size, features, labels):\n",
        "    num_examples = len(features)\n",
        "    indices = list(range(num_examples))\n",
        "    random.shuffle(indices)\n",
        "    for i in range(0, num_examples, batch_size):\n",
        "        batch_indices = np.array(\n",
        "            indices[i: min(i + batch_size, num_examples)])\n",
        "        yield features[batch_indices], labels[batch_indices]\n",
        "\n",
        "def linreg(X, w, b):\n",
        "    return np.dot(X, w) + b\n",
        "def sgd(w, b, lr, batch_size,l1,X):\n",
        "    b = b - lr * np.sum(l1) / batch_size\n",
        "    w = w - lr * np.dot(X.T,l1) / batch_size\n",
        "    return w,b\n",
        "def squared_loss(y_hat, y):\n",
        "    return (y_hat - y.reshape(y_hat.shape)) ** 2 / 2\n",
        "def loss(y_hat, y):\n",
        "    return (y_hat - y.reshape(y_hat.shape))"
      ]
    },
    {
      "cell_type": "markdown",
      "id": "875a532f",
      "metadata": {
        "id": "875a532f"
      },
      "source": [
        "#### Main code for myFnLinReg(X,y,batch_size) which can be used for stochastic gradient descent and mini batch gradient descent."
      ]
    },
    {
      "cell_type": "code",
      "execution_count": 40,
      "id": "fe08ac92",
      "metadata": {
        "id": "fe08ac92"
      },
      "outputs": [],
      "source": [
        "def myFnLinReg2(X,y,batch_size):\n",
        "    cost_func_graph = []\n",
        "    w = np.random.normal(0, 0.01, (1, 1))\n",
        "    b = np.zeros(1)\n",
        "    for epoch in range(num_epochs):\n",
        "        for X, y in data_iter(batch_size, X_1, y_1):\n",
        "            l = squared_loss(linreg(X, w, b), y)  \n",
        "            l1 = loss(linreg(X, w, b), y)\n",
        "            l2 = np.sum(l1)\n",
        "            w,b = sgd(w, b, lr, batch_size,l1,X)\n",
        "        cost_func_graph.append(float(squared_loss(linreg(X, w, b), y).mean()))\n",
        "        if epoch%20 == 0:\n",
        "            train_l = loss(linreg(X_1, w, b), y_1)\n",
        "            train_l2 = squared_loss(linreg(X, w, b), y)\n",
        "            print(f'epoch {epoch + 1}, loss {float(train_l.mean()):f},cost/loss-mse {float(train_l2.mean()):f}')\n",
        "    arr = np.array(cost_func_graph)\n",
        "    print(arr.shape)\n",
        "    plt.plot(arr)\n",
        "    plt.show()\n",
        "    return w,b"
      ]
    },
    {
      "cell_type": "markdown",
      "source": [
        "### Mini batch gradient descent"
      ],
      "metadata": {
        "id": "PkXEriLjNM8s"
      },
      "id": "PkXEriLjNM8s"
    },
    {
      "cell_type": "code",
      "execution_count": 41,
      "id": "6c75d792",
      "metadata": {
        "colab": {
          "base_uri": "https://localhost:8080/",
          "height": 428
        },
        "id": "6c75d792",
        "outputId": "c534fac8-461b-4637-800f-cb3f12c5acc4"
      },
      "outputs": [
        {
          "output_type": "stream",
          "name": "stdout",
          "text": [
            "epoch 1, loss -4.860808,cost/loss-mse 56.167095\n",
            "epoch 21, loss -0.141316,cost/loss-mse 4.414971\n",
            "epoch 41, loss 0.013397,cost/loss-mse 5.726340\n",
            "epoch 61, loss 0.330039,cost/loss-mse 9.131362\n",
            "epoch 81, loss -1.116157,cost/loss-mse 2.693209\n",
            "epoch 101, loss -1.121150,cost/loss-mse 4.834538\n",
            "epoch 121, loss -0.564973,cost/loss-mse 2.632838\n",
            "epoch 141, loss 2.628271,cost/loss-mse 7.560686\n",
            "(150,)\n"
          ]
        },
        {
          "output_type": "display_data",
          "data": {
            "text/plain": [
              "<Figure size 432x288 with 1 Axes>"
            ],
            "image/png": "[encoded data removed]"
          },
          "metadata": {
            "needs_background": "light"
          }
        }
      ],
      "source": [
        "lr = 0.1 #learning rate\n",
        "num_epochs = 150 #no of epochs\n",
        "batch_size = 8 #batch size\n",
        "w1,b1 = myFnLinReg2(X_train, y_train,batch_size)"
      ]
    },
    {
      "cell_type": "code",
      "execution_count": 42,
      "metadata": {
        "id": "0H1xmn3YMvg2"
      },
      "outputs": [],
      "source": [
        "y_pred = X_test*(w1) + b1"
      ],
      "id": "0H1xmn3YMvg2"
    },
    {
      "cell_type": "code",
      "execution_count": 43,
      "metadata": {
        "scrolled": false,
        "colab": {
          "base_uri": "https://localhost:8080/"
        },
        "id": "kU8vOh41Mvg2",
        "outputId": "ec27c6de-b881-4d8a-bf41-2ad338142f4c"
      },
      "outputs": [
        {
          "output_type": "execute_result",
          "data": {
            "text/plain": [
              "0.728693924761301"
            ]
          },
          "metadata": {},
          "execution_count": 43
        }
      ],
      "source": [
        "r2_score(y_pred,y_test)"
      ],
      "id": "kU8vOh41Mvg2"
    },
    {
      "cell_type": "code",
      "execution_count": 44,
      "metadata": {
        "colab": {
          "base_uri": "https://localhost:8080/"
        },
        "id": "uFaUIRS8Mvg3",
        "outputId": "ab4d0c92-9d7f-4c12-a07b-d9317dde735f"
      },
      "outputs": [
        {
          "output_type": "execute_result",
          "data": {
            "text/plain": [
              "1.244870863054756"
            ]
          },
          "metadata": {},
          "execution_count": 44
        }
      ],
      "source": [
        "rmse(y_pred,y_test)"
      ],
      "id": "uFaUIRS8Mvg3"
    },
    {
      "cell_type": "markdown",
      "source": [
        "### Stochastic batch gradient descent"
      ],
      "metadata": {
        "id": "Uu4enr8wNvx2"
      },
      "id": "Uu4enr8wNvx2"
    },
    {
      "cell_type": "code",
      "execution_count": 45,
      "id": "bef8c7b0",
      "metadata": {
        "colab": {
          "base_uri": "https://localhost:8080/",
          "height": 737
        },
        "id": "bef8c7b0",
        "outputId": "3de006b7-5ac3-4b07-92e7-c893fc93c67d"
      },
      "outputs": [
        {
          "output_type": "stream",
          "name": "stdout",
          "text": [
            "epoch 1, loss -5.199812,cost/loss-mse 78.455770\n",
            "epoch 21, loss -0.717406,cost/loss-mse 3.389534\n",
            "epoch 41, loss -1.845505,cost/loss-mse 0.088209\n",
            "epoch 61, loss -1.037530,cost/loss-mse 7.063997\n",
            "epoch 81, loss -0.516238,cost/loss-mse 0.390168\n",
            "epoch 101, loss -0.441095,cost/loss-mse 0.000188\n",
            "epoch 121, loss -0.539829,cost/loss-mse 4.437359\n",
            "epoch 141, loss -0.508327,cost/loss-mse 0.057336\n",
            "epoch 161, loss -0.471848,cost/loss-mse 1.565437\n",
            "epoch 181, loss -0.831185,cost/loss-mse 0.400159\n",
            "epoch 201, loss -0.054566,cost/loss-mse 1.961382\n",
            "epoch 221, loss -0.424768,cost/loss-mse 3.837416\n",
            "epoch 241, loss -0.146698,cost/loss-mse 1.042642\n",
            "epoch 261, loss 0.019999,cost/loss-mse 0.815928\n",
            "epoch 281, loss 0.570494,cost/loss-mse 0.022091\n",
            "epoch 301, loss -0.803811,cost/loss-mse 3.203613\n",
            "epoch 321, loss -0.154521,cost/loss-mse 1.755844\n",
            "epoch 341, loss -0.933243,cost/loss-mse 2.632822\n",
            "epoch 361, loss -0.703712,cost/loss-mse 2.094527\n",
            "epoch 381, loss 0.485593,cost/loss-mse 0.013180\n",
            "epoch 401, loss 0.021728,cost/loss-mse 4.507638\n",
            "epoch 421, loss 0.034457,cost/loss-mse 0.729048\n",
            "epoch 441, loss -0.375083,cost/loss-mse 0.164869\n",
            "epoch 461, loss -0.759312,cost/loss-mse 1.313300\n",
            "epoch 481, loss -0.472979,cost/loss-mse 2.766173\n",
            "(500,)\n"
          ]
        },
        {
          "output_type": "display_data",
          "data": {
            "text/plain": [
              "<Figure size 432x288 with 1 Axes>"
            ],
            "image/png": "[encoded data removed]"
          },
          "metadata": {
            "needs_background": "light"
          }
        }
      ],
      "source": [
        "lr = 0.01\n",
        "num_epochs = 500\n",
        "w1,b1 = myFnLinReg2(X_train, y_train,1)"
      ]
    },
    {
      "cell_type": "code",
      "execution_count": 46,
      "metadata": {
        "id": "rAbL9hpAMvg3"
      },
      "outputs": [],
      "source": [
        "y_pred = X_test*(w1) + b1"
      ],
      "id": "rAbL9hpAMvg3"
    },
    {
      "cell_type": "code",
      "execution_count": 47,
      "metadata": {
        "scrolled": false,
        "colab": {
          "base_uri": "https://localhost:8080/"
        },
        "id": "NgoSmwJHMvg3",
        "outputId": "2b4bb226-0b5b-4407-b46b-ea864bc7275a"
      },
      "outputs": [
        {
          "output_type": "execute_result",
          "data": {
            "text/plain": [
              "0.7271880601616756"
            ]
          },
          "metadata": {},
          "execution_count": 47
        }
      ],
      "source": [
        "r2_score(y_pred,y_test)"
      ],
      "id": "NgoSmwJHMvg3"
    },
    {
      "cell_type": "code",
      "execution_count": 48,
      "metadata": {
        "colab": {
          "base_uri": "https://localhost:8080/"
        },
        "id": "KnAkmX4SMvg3",
        "outputId": "11629a0e-7d84-455f-b027-36b27a797a4b"
      },
      "outputs": [
        {
          "output_type": "execute_result",
          "data": {
            "text/plain": [
              "1.2483208649369186"
            ]
          },
          "metadata": {},
          "execution_count": 48
        }
      ],
      "source": [
        "rmse(y_pred,y_test)"
      ],
      "id": "KnAkmX4SMvg3"
    }
  ],
  "metadata": {
    "kernelspec": {
      "display_name": "Python 3 (ipykernel)",
      "language": "python",
      "name": "python3"
    },
    "language_info": {
      "codemirror_mode": {
        "name": "ipython",
        "version": 3
      },
      "file_extension": ".py",
      "mimetype": "text/x-python",
      "name": "python",
      "nbconvert_exporter": "python",
      "pygments_lexer": "ipython3",
      "version": "3.8.12"
    },
    "colab": {
      "name": "Week-1_Excercise-1.ipynb",
      "provenance": [],
      "collapsed_sections": [],
      "toc_visible": true
    }
  },
  "nbformat": 4,
  "nbformat_minor": 5
}