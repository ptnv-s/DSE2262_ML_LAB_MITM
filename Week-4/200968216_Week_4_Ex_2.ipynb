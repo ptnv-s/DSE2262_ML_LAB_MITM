{
 "cells": [
  {
   "cell_type": "markdown",
   "id": "TYEET--OWaXu",
   "metadata": {
    "id": "TYEET--OWaXu"
   },
   "source": [
    "# Week-4 Excercise -2\n",
    " By-\n",
    "\n",
    "**Pratinav Seth 200968216**"
   ]
  },
  {
   "cell_type": "markdown",
   "id": "hHTM5EFOSb2W",
   "metadata": {
    "id": "hHTM5EFOSb2W"
   },
   "source": [
    "### Meta-Data\n",
    "Here is a description of some of the features that are in the dataset.\n",
    "\n",
    "MODELYEAR e.g. 2014\n",
    "\n",
    "MAKE e.g. Acura\n",
    "\n",
    "MODEL e.g. ILX\n",
    "\n",
    "VEHICLE CLASS e.g. SUV\n",
    "\n",
    "ENGINE SIZE e.g. 4.7\n",
    "\n",
    "CYLINDERS e.g 6\n",
    "\n",
    "TRANSMISSION e.g. A6\n",
    "\n",
    "FUEL CONSUMPTION in CITY(L/100 km) e.g. 9.9\n",
    "\n",
    "FUEL CONSUMPTION in HWY (L/100 km) e.g. 8.9\n",
    "\n",
    "FUEL CONSUMPTION COMB (L/100 km) e.g. 9.2\n",
    "\n",
    "CO2 EMISSIONS (g/km) e.g. 182 --> low --> 0"
   ]
  },
  {
   "cell_type": "code",
   "execution_count": 19,
   "id": "eed5e356",
   "metadata": {
    "id": "eed5e356"
   },
   "outputs": [],
   "source": [
    "import numpy as np\n",
    "import pandas as pd\n",
    "import numpy as np\n",
    "import matplotlib.pyplot as plt\n",
    "from sklearn.model_selection import train_test_split\n",
    "from sklearn.linear_model import LinearRegression\n",
    "from sklearn.preprocessing import PolynomialFeatures\n",
    "from sklearn.metrics import r2_score\n",
    "from sklearn.metrics import mean_absolute_error\n",
    "from sklearn.metrics import mean_squared_error\n",
    "from sklearn.preprocessing import PolynomialFeatures\n",
    "import seaborn as sns\n",
    "from sklearn.model_selection import train_test_split"
   ]
  },
  {
   "cell_type": "code",
   "execution_count": 20,
   "id": "62b6eac5",
   "metadata": {
    "id": "62b6eac5"
   },
   "outputs": [],
   "source": [
    "df = pd.read_csv(\"FuelConsumption.csv\")"
   ]
  },
  {
   "cell_type": "code",
   "execution_count": 21,
   "id": "dfaab640",
   "metadata": {
    "colab": {
     "base_uri": "https://localhost:8080/",
     "height": 357
    },
    "id": "dfaab640",
    "outputId": "6c93b737-9db7-4b83-8c48-1efce0d80147"
   },
   "outputs": [
    {
     "data": {
      "text/html": [
       "\n",
       "  <div id=\"df-1a7afab5-188b-4aef-b814-5a4c594aeed1\">\n",
       "    <div class=\"colab-df-container\">\n",
       "      <div>\n",
       "<style scoped>\n",
       "    .dataframe tbody tr th:only-of-type {\n",
       "        vertical-align: middle;\n",
       "    }\n",
       "\n",
       "    .dataframe tbody tr th {\n",
       "        vertical-align: top;\n",
       "    }\n",
       "\n",
       "    .dataframe thead th {\n",
       "        text-align: right;\n",
       "    }\n",
       "</style>\n",
       "<table border=\"1\" class=\"dataframe\">\n",
       "  <thead>\n",
       "    <tr style=\"text-align: right;\">\n",
       "      <th></th>\n",
       "      <th>MODELYEAR</th>\n",
       "      <th>MAKE</th>\n",
       "      <th>MODEL</th>\n",
       "      <th>VEHICLECLASS</th>\n",
       "      <th>ENGINESIZE</th>\n",
       "      <th>CYLINDERS</th>\n",
       "      <th>TRANSMISSION</th>\n",
       "      <th>FUELTYPE</th>\n",
       "      <th>FUELCONSUMPTION_CITY</th>\n",
       "      <th>FUELCONSUMPTION_HWY</th>\n",
       "      <th>FUELCONSUMPTION_COMB</th>\n",
       "      <th>FUELCONSUMPTION_COMB_MPG</th>\n",
       "      <th>CO2EMISSIONS</th>\n",
       "    </tr>\n",
       "  </thead>\n",
       "  <tbody>\n",
       "    <tr>\n",
       "      <th>1062</th>\n",
       "      <td>2014</td>\n",
       "      <td>VOLVO</td>\n",
       "      <td>XC60 AWD</td>\n",
       "      <td>SUV - SMALL</td>\n",
       "      <td>3.0</td>\n",
       "      <td>6</td>\n",
       "      <td>AS6</td>\n",
       "      <td>X</td>\n",
       "      <td>13.4</td>\n",
       "      <td>9.8</td>\n",
       "      <td>11.8</td>\n",
       "      <td>24</td>\n",
       "      <td>271</td>\n",
       "    </tr>\n",
       "    <tr>\n",
       "      <th>1063</th>\n",
       "      <td>2014</td>\n",
       "      <td>VOLVO</td>\n",
       "      <td>XC60 AWD</td>\n",
       "      <td>SUV - SMALL</td>\n",
       "      <td>3.2</td>\n",
       "      <td>6</td>\n",
       "      <td>AS6</td>\n",
       "      <td>X</td>\n",
       "      <td>13.2</td>\n",
       "      <td>9.5</td>\n",
       "      <td>11.5</td>\n",
       "      <td>25</td>\n",
       "      <td>264</td>\n",
       "    </tr>\n",
       "    <tr>\n",
       "      <th>1064</th>\n",
       "      <td>2014</td>\n",
       "      <td>VOLVO</td>\n",
       "      <td>XC70 AWD</td>\n",
       "      <td>SUV - SMALL</td>\n",
       "      <td>3.0</td>\n",
       "      <td>6</td>\n",
       "      <td>AS6</td>\n",
       "      <td>X</td>\n",
       "      <td>13.4</td>\n",
       "      <td>9.8</td>\n",
       "      <td>11.8</td>\n",
       "      <td>24</td>\n",
       "      <td>271</td>\n",
       "    </tr>\n",
       "    <tr>\n",
       "      <th>1065</th>\n",
       "      <td>2014</td>\n",
       "      <td>VOLVO</td>\n",
       "      <td>XC70 AWD</td>\n",
       "      <td>SUV - SMALL</td>\n",
       "      <td>3.2</td>\n",
       "      <td>6</td>\n",
       "      <td>AS6</td>\n",
       "      <td>X</td>\n",
       "      <td>12.9</td>\n",
       "      <td>9.3</td>\n",
       "      <td>11.3</td>\n",
       "      <td>25</td>\n",
       "      <td>260</td>\n",
       "    </tr>\n",
       "    <tr>\n",
       "      <th>1066</th>\n",
       "      <td>2014</td>\n",
       "      <td>VOLVO</td>\n",
       "      <td>XC90 AWD</td>\n",
       "      <td>SUV - STANDARD</td>\n",
       "      <td>3.2</td>\n",
       "      <td>6</td>\n",
       "      <td>AS6</td>\n",
       "      <td>X</td>\n",
       "      <td>14.9</td>\n",
       "      <td>10.2</td>\n",
       "      <td>12.8</td>\n",
       "      <td>22</td>\n",
       "      <td>294</td>\n",
       "    </tr>\n",
       "  </tbody>\n",
       "</table>\n",
       "</div>\n",
       "      <button class=\"colab-df-convert\" onclick=\"convertToInteractive('df-1a7afab5-188b-4aef-b814-5a4c594aeed1')\"\n",
       "              title=\"Convert this dataframe to an interactive table.\"\n",
       "              style=\"display:none;\">\n",
       "        \n",
       "  <svg xmlns=\"http://www.w3.org/2000/svg\" height=\"24px\"viewBox=\"0 0 24 24\"\n",
       "       width=\"24px\">\n",
       "    <path d=\"M0 0h24v24H0V0z\" fill=\"none\"/>\n",
       "    <path d=\"M18.56 5.44l.94 2.06.94-2.06 2.06-.94-2.06-.94-.94-2.06-.94 2.06-2.06.94zm-11 1L8.5 8.5l.94-2.06 2.06-.94-2.06-.94L8.5 2.5l-.94 2.06-2.06.94zm10 10l.94 2.06.94-2.06 2.06-.94-2.06-.94-.94-2.06-.94 2.06-2.06.94z\"/><path d=\"M17.41 7.96l-1.37-1.37c-.4-.4-.92-.59-1.43-.59-.52 0-1.04.2-1.43.59L10.3 9.45l-7.72 7.72c-.78.78-.78 2.05 0 2.83L4 21.41c.39.39.9.59 1.41.59.51 0 1.02-.2 1.41-.59l7.78-7.78 2.81-2.81c.8-.78.8-2.07 0-2.86zM5.41 20L4 18.59l7.72-7.72 1.47 1.35L5.41 20z\"/>\n",
       "  </svg>\n",
       "      </button>\n",
       "      \n",
       "  <style>\n",
       "    .colab-df-container {\n",
       "      display:flex;\n",
       "      flex-wrap:wrap;\n",
       "      gap: 12px;\n",
       "    }\n",
       "\n",
       "    .colab-df-convert {\n",
       "      background-color: #E8F0FE;\n",
       "      border: none;\n",
       "      border-radius: 50%;\n",
       "      cursor: pointer;\n",
       "      display: none;\n",
       "      fill: #1967D2;\n",
       "      height: 32px;\n",
       "      padding: 0 0 0 0;\n",
       "      width: 32px;\n",
       "    }\n",
       "\n",
       "    .colab-df-convert:hover {\n",
       "      background-color: #E2EBFA;\n",
       "      box-shadow: 0px 1px 2px rgba(60, 64, 67, 0.3), 0px 1px 3px 1px rgba(60, 64, 67, 0.15);\n",
       "      fill: #174EA6;\n",
       "    }\n",
       "\n",
       "    [theme=dark] .colab-df-convert {\n",
       "      background-color: #3B4455;\n",
       "      fill: #D2E3FC;\n",
       "    }\n",
       "\n",
       "    [theme=dark] .colab-df-convert:hover {\n",
       "      background-color: #434B5C;\n",
       "      box-shadow: 0px 1px 3px 1px rgba(0, 0, 0, 0.15);\n",
       "      filter: drop-shadow(0px 1px 2px rgba(0, 0, 0, 0.3));\n",
       "      fill: #FFFFFF;\n",
       "    }\n",
       "  </style>\n",
       "\n",
       "      <script>\n",
       "        const buttonEl =\n",
       "          document.querySelector('#df-1a7afab5-188b-4aef-b814-5a4c594aeed1 button.colab-df-convert');\n",
       "        buttonEl.style.display =\n",
       "          google.colab.kernel.accessAllowed ? 'block' : 'none';\n",
       "\n",
       "        async function convertToInteractive(key) {\n",
       "          const element = document.querySelector('#df-1a7afab5-188b-4aef-b814-5a4c594aeed1');\n",
       "          const dataTable =\n",
       "            await google.colab.kernel.invokeFunction('convertToInteractive',\n",
       "                                                     [key], {});\n",
       "          if (!dataTable) return;\n",
       "\n",
       "          const docLinkHtml = 'Like what you see? Visit the ' +\n",
       "            '<a target=\"_blank\" href=https://colab.research.google.com/notebooks/data_table.ipynb>data table notebook</a>'\n",
       "            + ' to learn more about interactive tables.';\n",
       "          element.innerHTML = '';\n",
       "          dataTable['output_type'] = 'display_data';\n",
       "          await google.colab.output.renderOutput(dataTable, element);\n",
       "          const docLink = document.createElement('div');\n",
       "          docLink.innerHTML = docLinkHtml;\n",
       "          element.appendChild(docLink);\n",
       "        }\n",
       "      </script>\n",
       "    </div>\n",
       "  </div>\n",
       "  "
      ],
      "text/plain": [
       "      MODELYEAR   MAKE     MODEL    VEHICLECLASS  ENGINESIZE  CYLINDERS  \\\n",
       "1062       2014  VOLVO  XC60 AWD     SUV - SMALL         3.0          6   \n",
       "1063       2014  VOLVO  XC60 AWD     SUV - SMALL         3.2          6   \n",
       "1064       2014  VOLVO  XC70 AWD     SUV - SMALL         3.0          6   \n",
       "1065       2014  VOLVO  XC70 AWD     SUV - SMALL         3.2          6   \n",
       "1066       2014  VOLVO  XC90 AWD  SUV - STANDARD         3.2          6   \n",
       "\n",
       "     TRANSMISSION FUELTYPE  FUELCONSUMPTION_CITY  FUELCONSUMPTION_HWY  \\\n",
       "1062          AS6        X                  13.4                  9.8   \n",
       "1063          AS6        X                  13.2                  9.5   \n",
       "1064          AS6        X                  13.4                  9.8   \n",
       "1065          AS6        X                  12.9                  9.3   \n",
       "1066          AS6        X                  14.9                 10.2   \n",
       "\n",
       "      FUELCONSUMPTION_COMB  FUELCONSUMPTION_COMB_MPG  CO2EMISSIONS  \n",
       "1062                  11.8                        24           271  \n",
       "1063                  11.5                        25           264  \n",
       "1064                  11.8                        24           271  \n",
       "1065                  11.3                        25           260  \n",
       "1066                  12.8                        22           294  "
      ]
     },
     "execution_count": 21,
     "metadata": {},
     "output_type": "execute_result"
    }
   ],
   "source": [
    "df.tail()"
   ]
  },
  {
   "cell_type": "markdown",
   "id": "RLGBgBGrQJLK",
   "metadata": {
    "id": "RLGBgBGrQJLK"
   },
   "source": [
    "#### Q1a) Select the features 'ENGINESIZE', 'CYLINDERS', 'FUELCONSUMPTION_COMB','CO2EMISSIONS' to use for building the model.\n"
   ]
  },
  {
   "cell_type": "code",
   "execution_count": 22,
   "id": "8c6b0d83",
   "metadata": {
    "id": "8c6b0d83"
   },
   "outputs": [],
   "source": [
    "df2 = df[['ENGINESIZE','CYLINDERS','FUELCONSUMPTION_COMB','CO2EMISSIONS']]"
   ]
  },
  {
   "cell_type": "code",
   "execution_count": 23,
   "id": "9683397d",
   "metadata": {
    "colab": {
     "base_uri": "https://localhost:8080/",
     "height": 206
    },
    "id": "9683397d",
    "outputId": "8ddd3627-9f58-4b2a-8397-94fb4165bf1e"
   },
   "outputs": [
    {
     "data": {
      "text/html": [
       "\n",
       "  <div id=\"df-0a59841e-a1f0-485c-aa2b-ecfb1a75c54f\">\n",
       "    <div class=\"colab-df-container\">\n",
       "      <div>\n",
       "<style scoped>\n",
       "    .dataframe tbody tr th:only-of-type {\n",
       "        vertical-align: middle;\n",
       "    }\n",
       "\n",
       "    .dataframe tbody tr th {\n",
       "        vertical-align: top;\n",
       "    }\n",
       "\n",
       "    .dataframe thead th {\n",
       "        text-align: right;\n",
       "    }\n",
       "</style>\n",
       "<table border=\"1\" class=\"dataframe\">\n",
       "  <thead>\n",
       "    <tr style=\"text-align: right;\">\n",
       "      <th></th>\n",
       "      <th>ENGINESIZE</th>\n",
       "      <th>CYLINDERS</th>\n",
       "      <th>FUELCONSUMPTION_COMB</th>\n",
       "      <th>CO2EMISSIONS</th>\n",
       "    </tr>\n",
       "  </thead>\n",
       "  <tbody>\n",
       "    <tr>\n",
       "      <th>0</th>\n",
       "      <td>2.0</td>\n",
       "      <td>4</td>\n",
       "      <td>8.5</td>\n",
       "      <td>196</td>\n",
       "    </tr>\n",
       "    <tr>\n",
       "      <th>1</th>\n",
       "      <td>2.4</td>\n",
       "      <td>4</td>\n",
       "      <td>9.6</td>\n",
       "      <td>221</td>\n",
       "    </tr>\n",
       "    <tr>\n",
       "      <th>2</th>\n",
       "      <td>1.5</td>\n",
       "      <td>4</td>\n",
       "      <td>5.9</td>\n",
       "      <td>136</td>\n",
       "    </tr>\n",
       "    <tr>\n",
       "      <th>3</th>\n",
       "      <td>3.5</td>\n",
       "      <td>6</td>\n",
       "      <td>11.1</td>\n",
       "      <td>255</td>\n",
       "    </tr>\n",
       "    <tr>\n",
       "      <th>4</th>\n",
       "      <td>3.5</td>\n",
       "      <td>6</td>\n",
       "      <td>10.6</td>\n",
       "      <td>244</td>\n",
       "    </tr>\n",
       "  </tbody>\n",
       "</table>\n",
       "</div>\n",
       "      <button class=\"colab-df-convert\" onclick=\"convertToInteractive('df-0a59841e-a1f0-485c-aa2b-ecfb1a75c54f')\"\n",
       "              title=\"Convert this dataframe to an interactive table.\"\n",
       "              style=\"display:none;\">\n",
       "        \n",
       "  <svg xmlns=\"http://www.w3.org/2000/svg\" height=\"24px\"viewBox=\"0 0 24 24\"\n",
       "       width=\"24px\">\n",
       "    <path d=\"M0 0h24v24H0V0z\" fill=\"none\"/>\n",
       "    <path d=\"M18.56 5.44l.94 2.06.94-2.06 2.06-.94-2.06-.94-.94-2.06-.94 2.06-2.06.94zm-11 1L8.5 8.5l.94-2.06 2.06-.94-2.06-.94L8.5 2.5l-.94 2.06-2.06.94zm10 10l.94 2.06.94-2.06 2.06-.94-2.06-.94-.94-2.06-.94 2.06-2.06.94z\"/><path d=\"M17.41 7.96l-1.37-1.37c-.4-.4-.92-.59-1.43-.59-.52 0-1.04.2-1.43.59L10.3 9.45l-7.72 7.72c-.78.78-.78 2.05 0 2.83L4 21.41c.39.39.9.59 1.41.59.51 0 1.02-.2 1.41-.59l7.78-7.78 2.81-2.81c.8-.78.8-2.07 0-2.86zM5.41 20L4 18.59l7.72-7.72 1.47 1.35L5.41 20z\"/>\n",
       "  </svg>\n",
       "      </button>\n",
       "      \n",
       "  <style>\n",
       "    .colab-df-container {\n",
       "      display:flex;\n",
       "      flex-wrap:wrap;\n",
       "      gap: 12px;\n",
       "    }\n",
       "\n",
       "    .colab-df-convert {\n",
       "      background-color: #E8F0FE;\n",
       "      border: none;\n",
       "      border-radius: 50%;\n",
       "      cursor: pointer;\n",
       "      display: none;\n",
       "      fill: #1967D2;\n",
       "      height: 32px;\n",
       "      padding: 0 0 0 0;\n",
       "      width: 32px;\n",
       "    }\n",
       "\n",
       "    .colab-df-convert:hover {\n",
       "      background-color: #E2EBFA;\n",
       "      box-shadow: 0px 1px 2px rgba(60, 64, 67, 0.3), 0px 1px 3px 1px rgba(60, 64, 67, 0.15);\n",
       "      fill: #174EA6;\n",
       "    }\n",
       "\n",
       "    [theme=dark] .colab-df-convert {\n",
       "      background-color: #3B4455;\n",
       "      fill: #D2E3FC;\n",
       "    }\n",
       "\n",
       "    [theme=dark] .colab-df-convert:hover {\n",
       "      background-color: #434B5C;\n",
       "      box-shadow: 0px 1px 3px 1px rgba(0, 0, 0, 0.15);\n",
       "      filter: drop-shadow(0px 1px 2px rgba(0, 0, 0, 0.3));\n",
       "      fill: #FFFFFF;\n",
       "    }\n",
       "  </style>\n",
       "\n",
       "      <script>\n",
       "        const buttonEl =\n",
       "          document.querySelector('#df-0a59841e-a1f0-485c-aa2b-ecfb1a75c54f button.colab-df-convert');\n",
       "        buttonEl.style.display =\n",
       "          google.colab.kernel.accessAllowed ? 'block' : 'none';\n",
       "\n",
       "        async function convertToInteractive(key) {\n",
       "          const element = document.querySelector('#df-0a59841e-a1f0-485c-aa2b-ecfb1a75c54f');\n",
       "          const dataTable =\n",
       "            await google.colab.kernel.invokeFunction('convertToInteractive',\n",
       "                                                     [key], {});\n",
       "          if (!dataTable) return;\n",
       "\n",
       "          const docLinkHtml = 'Like what you see? Visit the ' +\n",
       "            '<a target=\"_blank\" href=https://colab.research.google.com/notebooks/data_table.ipynb>data table notebook</a>'\n",
       "            + ' to learn more about interactive tables.';\n",
       "          element.innerHTML = '';\n",
       "          dataTable['output_type'] = 'display_data';\n",
       "          await google.colab.output.renderOutput(dataTable, element);\n",
       "          const docLink = document.createElement('div');\n",
       "          docLink.innerHTML = docLinkHtml;\n",
       "          element.appendChild(docLink);\n",
       "        }\n",
       "      </script>\n",
       "    </div>\n",
       "  </div>\n",
       "  "
      ],
      "text/plain": [
       "   ENGINESIZE  CYLINDERS  FUELCONSUMPTION_COMB  CO2EMISSIONS\n",
       "0         2.0          4                   8.5           196\n",
       "1         2.4          4                   9.6           221\n",
       "2         1.5          4                   5.9           136\n",
       "3         3.5          6                  11.1           255\n",
       "4         3.5          6                  10.6           244"
      ]
     },
     "execution_count": 23,
     "metadata": {},
     "output_type": "execute_result"
    }
   ],
   "source": [
    "df2.head()"
   ]
  },
  {
   "cell_type": "markdown",
   "id": "JDi-qZ1uQU8V",
   "metadata": {
    "id": "JDi-qZ1uQU8V"
   },
   "source": [
    "#### Q1b)Plot Emission values with respect to Engine size."
   ]
  },
  {
   "cell_type": "code",
   "execution_count": 24,
   "id": "43545108",
   "metadata": {
    "colab": {
     "base_uri": "https://localhost:8080/",
     "height": 298
    },
    "id": "43545108",
    "outputId": "6a119f03-6b76-4d2b-e380-24a49aa4f1ce"
   },
   "outputs": [
    {
     "data": {
      "text/plain": [
       "<matplotlib.axes._subplots.AxesSubplot at 0x7ff4b19a2610>"
      ]
     },
     "execution_count": 24,
     "metadata": {},
     "output_type": "execute_result"
    },
    {
     "data": {
      "image/png": "[encoded data removed]",
      "text/plain": [
       "<Figure size 432x288 with 1 Axes>"
      ]
     },
     "metadata": {
      "needs_background": "light"
     },
     "output_type": "display_data"
    }
   ],
   "source": [
    "sns.scatterplot(data=df2, x=\"ENGINESIZE\", y=\"CO2EMISSIONS\")"
   ]
  },
  {
   "cell_type": "code",
   "execution_count": 25,
   "id": "PY6YbQIzIU_b",
   "metadata": {
    "colab": {
     "base_uri": "https://localhost:8080/",
     "height": 412
    },
    "id": "PY6YbQIzIU_b",
    "outputId": "3908d515-e25f-4612-950c-513e986806b4"
   },
   "outputs": [
    {
     "data": {
      "text/plain": [
       "<matplotlib.axes._subplots.AxesSubplot at 0x7ff4b191c7d0>"
      ]
     },
     "execution_count": 25,
     "metadata": {},
     "output_type": "execute_result"
    },
    {
     "data": {
      "image/png": "[encoded data removed]",
      "text/plain": [
       "<Figure size 432x288 with 2 Axes>"
      ]
     },
     "metadata": {
      "needs_background": "light"
     },
     "output_type": "display_data"
    }
   ],
   "source": [
    "sns.heatmap(df2.corr(),annot=True)"
   ]
  },
  {
   "cell_type": "markdown",
   "id": "1n4M0rNCQd8N",
   "metadata": {
    "id": "1n4M0rNCQd8N"
   },
   "source": [
    "#### Q2)Split the data into training and test sets (70:30) to create a model using training set, evaluate the model using test set, and use model to predict unknown value\n"
   ]
  },
  {
   "cell_type": "code",
   "execution_count": 26,
   "id": "209bcbfa",
   "metadata": {
    "id": "209bcbfa"
   },
   "outputs": [],
   "source": [
    "X = df2.drop('CO2EMISSIONS',axis=1)"
   ]
  },
  {
   "cell_type": "code",
   "execution_count": 27,
   "id": "4e078848",
   "metadata": {
    "id": "4e078848"
   },
   "outputs": [],
   "source": [
    "y = df2['CO2EMISSIONS']"
   ]
  },
  {
   "cell_type": "code",
   "execution_count": 28,
   "id": "d456a037",
   "metadata": {
    "id": "d456a037"
   },
   "outputs": [],
   "source": [
    "X_trainset, X_testset, y_trainset, y_testset = train_test_split(X, y, test_size=0.3, random_state=42)"
   ]
  },
  {
   "cell_type": "code",
   "execution_count": 29,
   "id": "701LldEAQpty",
   "metadata": {
    "colab": {
     "base_uri": "https://localhost:8080/"
    },
    "id": "701LldEAQpty",
    "outputId": "0f1ff0d6-e574-4677-a9ea-e5151192c257"
   },
   "outputs": [
    {
     "name": "stdout",
     "output_type": "stream",
     "text": [
      "R2-SCORE: 0.875145\n",
      "MAE: 16.539300\n",
      "MSE: 503.603151\n",
      "Residual sum of squares: 161656.611334\n"
     ]
    }
   ],
   "source": [
    "lr = LinearRegression()\n",
    "lr.fit(X_trainset, y_trainset)\n",
    "y_pred = lr.predict(X_testset)\n",
    "print(\"R2-SCORE: %.6f\"% (r2_score(y_testset, y_pred)))\n",
    "print(\"MAE: %.6f\"% (mean_absolute_error(y_testset, y_pred)))\n",
    "print(\"MSE: %.6f\"% (mean_squared_error(y_testset, y_pred)))\n",
    "print(\"Residual sum of squares: %.6f\"% ((y_pred-y_testset) ** 2).sum())"
   ]
  },
  {
   "cell_type": "markdown",
   "id": "CTJWNEY5Qxtk",
   "metadata": {
    "id": "CTJWNEY5Qxtk"
   },
   "source": [
    "#### Q3)Try to use a polynomial regression with the dataset of degree – 3, 4 & 5. Verify the accuracy by calculating Mean absolute error, Residual sum of squares, R2-score and comment on which model is the best\n"
   ]
  },
  {
   "cell_type": "code",
   "execution_count": 30,
   "id": "a5515c05",
   "metadata": {
    "colab": {
     "base_uri": "https://localhost:8080/"
    },
    "id": "a5515c05",
    "outputId": "cec2fc7f-2391-4875-cc0b-f7c1fb9d5df5"
   },
   "outputs": [
    {
     "name": "stdout",
     "output_type": "stream",
     "text": [
      "R2-SCORE: 0.932247\n",
      "MAE: 10.230712\n",
      "MSE: 273.279769\n",
      "Residual sum of squares: 87722.805783\n"
     ]
    }
   ],
   "source": [
    "poly = PolynomialFeatures(degree=3, include_bias=True)\n",
    "x_train_trans = poly.fit_transform(X_trainset)\n",
    "x_test_trans = poly.transform(X_testset)\n",
    "lr = LinearRegression()\n",
    "lr.fit(x_train_trans, y_trainset)\n",
    "y_pred = lr.predict(x_test_trans)\n",
    "print(\"R2-SCORE: %.6f\"% (r2_score(y_testset, y_pred)))\n",
    "print(\"MAE: %.6f\"% (mean_absolute_error(y_testset, y_pred)))\n",
    "print(\"MSE: %.6f\"% (mean_squared_error(y_testset, y_pred)))\n",
    "print(\"Residual sum of squares: %.6f\"% ((y_pred-y_testset) ** 2).sum())"
   ]
  },
  {
   "cell_type": "code",
   "execution_count": 31,
   "id": "JDlJXBxtGzL0",
   "metadata": {
    "colab": {
     "base_uri": "https://localhost:8080/"
    },
    "id": "JDlJXBxtGzL0",
    "outputId": "78c9b8aa-0ad5-4898-af3d-0d5cc511ca00"
   },
   "outputs": [
    {
     "name": "stdout",
     "output_type": "stream",
     "text": [
      "R2-SCORE: 0.935932\n",
      "MAE: 9.645981\n",
      "MSE: 258.419310\n",
      "Residual sum of squares: 82952.598384\n"
     ]
    }
   ],
   "source": [
    "poly = PolynomialFeatures(degree=4, include_bias=True)\n",
    "x_train_trans = poly.fit_transform(X_trainset)\n",
    "x_test_trans = poly.transform(X_testset)\n",
    "lr = LinearRegression()\n",
    "lr.fit(x_train_trans, y_trainset)\n",
    "y_pred = lr.predict(x_test_trans)\n",
    "\n",
    "print(\"R2-SCORE: %.6f\"% (r2_score(y_testset, y_pred)))\n",
    "print(\"MAE: %.6f\"% (mean_absolute_error(y_testset, y_pred)))\n",
    "print(\"MSE: %.6f\"% (mean_squared_error(y_testset, y_pred)))\n",
    "print(\"Residual sum of squares: %.6f\"% ((y_pred-y_testset) ** 2).sum())"
   ]
  },
  {
   "cell_type": "code",
   "execution_count": 32,
   "id": "AtkW-M_AHEEO",
   "metadata": {
    "colab": {
     "base_uri": "https://localhost:8080/"
    },
    "id": "AtkW-M_AHEEO",
    "outputId": "87e47112-f389-4b33-cbfe-894f9960e9bb"
   },
   "outputs": [
    {
     "name": "stdout",
     "output_type": "stream",
     "text": [
      "R2-SCORE: 0.942617\n",
      "MAE: 8.255203\n",
      "MSE: 231.455339\n",
      "Residual sum of squares: 74297.163881\n"
     ]
    }
   ],
   "source": [
    "poly = PolynomialFeatures(degree=5, include_bias=True)\n",
    "x_train_trans = poly.fit_transform(X_trainset)\n",
    "x_test_trans = poly.transform(X_testset)\n",
    "lr = LinearRegression()\n",
    "lr.fit(x_train_trans, y_trainset)\n",
    "y_pred = lr.predict(x_test_trans)\n",
    "\n",
    "print(\"R2-SCORE: %.6f\"% (r2_score(y_testset, y_pred)))\n",
    "print(\"MAE: %.6f\"% (mean_absolute_error(y_testset, y_pred)))\n",
    "print(\"MSE: %.6f\"% (mean_squared_error(y_testset, y_pred)))\n",
    "print(\"Residual sum of squares: %.6f\"% ((y_pred-y_testset) ** 2).sum())"
   ]
  },
  {
   "cell_type": "markdown",
   "id": "rWlCRjUASuMI",
   "metadata": {
    "id": "rWlCRjUASuMI"
   },
   "source": [
    "By the Observation we observe polynomial equation of **degree-5** have the **highest** **R2-Score**, **least MAE,MSE and RSS**. \n",
    "\n",
    "With R2 being 0.94xx we can say around 94% of the variation in the output variable is explained by the input variables.\n",
    "\n",
    "**Thus, we can conclude model with polynomial degree 5 as the best fit for dataset.**\n",
    "\n",
    "![image.png](data:image/png;base64,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)"
   ]
  },
  {
   "cell_type": "markdown",
   "id": "_8KAwWV_-Uqa",
   "metadata": {
    "id": "_8KAwWV_-Uqa"
   },
   "source": [
    "Trying other degree polynomials including 2,6,7,8,etc. \n",
    "\n",
    "We find our model performs good only at degree 2 .\n",
    "\n",
    "It becomes worse with degree greater than 5 which is shown by MAE,MSE,R2-SCORE."
   ]
  },
  {
   "cell_type": "code",
   "execution_count": 33,
   "id": "sL1kvBZhMW30",
   "metadata": {
    "colab": {
     "base_uri": "https://localhost:8080/"
    },
    "id": "sL1kvBZhMW30",
    "outputId": "8462e556-19b2-4864-8218-aa5a70f690c2"
   },
   "outputs": [
    {
     "name": "stdout",
     "output_type": "stream",
     "text": [
      "R2-SCORE: -32.524232\n",
      "MAE: 31.231344\n",
      "MSE: 135219.891594\n",
      "Residual sum of squares: 43405585.201754\n"
     ]
    }
   ],
   "source": [
    "poly = PolynomialFeatures(degree=6, include_bias=True)\n",
    "x_train_trans = poly.fit_transform(X_trainset)\n",
    "x_test_trans = poly.transform(X_testset)\n",
    "lr = LinearRegression()\n",
    "lr.fit(x_train_trans, y_trainset)\n",
    "y_pred = lr.predict(x_test_trans)\n",
    "\n",
    "print(\"R2-SCORE: %.6f\"% (r2_score(y_testset, y_pred)))\n",
    "print(\"MAE: %.6f\"% (mean_absolute_error(y_testset, y_pred)))\n",
    "print(\"MSE: %.6f\"% (mean_squared_error(y_testset, y_pred)))\n",
    "print(\"Residual sum of squares: %.6f\"% ((y_pred-y_testset) ** 2).sum())"
   ]
  },
  {
   "cell_type": "code",
   "execution_count": 34,
   "id": "ln6SCthr-N2R",
   "metadata": {
    "colab": {
     "base_uri": "https://localhost:8080/"
    },
    "id": "ln6SCthr-N2R",
    "outputId": "0e13e83c-453c-454b-9ddb-1f5ae3122177"
   },
   "outputs": [
    {
     "name": "stdout",
     "output_type": "stream",
     "text": [
      "R2-SCORE: -881.303444\n",
      "MAE: 122.065602\n",
      "MSE: 3558768.307102\n",
      "Residual sum of squares: 1142364626.579592\n"
     ]
    }
   ],
   "source": [
    "poly = PolynomialFeatures(degree=7, include_bias=True)\n",
    "x_train_trans = poly.fit_transform(X_trainset)\n",
    "x_test_trans = poly.transform(X_testset)\n",
    "lr = LinearRegression()\n",
    "lr.fit(x_train_trans, y_trainset)\n",
    "y_pred = lr.predict(x_test_trans)\n",
    "\n",
    "print(\"R2-SCORE: %.6f\"% (r2_score(y_testset, y_pred)))\n",
    "print(\"MAE: %.6f\"% (mean_absolute_error(y_testset, y_pred)))\n",
    "print(\"MSE: %.6f\"% (mean_squared_error(y_testset, y_pred)))\n",
    "print(\"Residual sum of squares: %.6f\"% ((y_pred-y_testset) ** 2).sum())"
   ]
  },
  {
   "cell_type": "code",
   "execution_count": 35,
   "id": "n7L7HDw0-PU8",
   "metadata": {
    "colab": {
     "base_uri": "https://localhost:8080/"
    },
    "id": "n7L7HDw0-PU8",
    "outputId": "94ff124c-eb47-4281-c3ee-6e761c37591a"
   },
   "outputs": [
    {
     "name": "stdout",
     "output_type": "stream",
     "text": [
      "R2-SCORE: -40426.307712\n",
      "MAE: 742.689030\n",
      "MSE: 163063425.010816\n",
      "Residual sum of squares: 52343359428.471992\n"
     ]
    }
   ],
   "source": [
    "poly = PolynomialFeatures(degree=8, include_bias=True)\n",
    "x_train_trans = poly.fit_transform(X_trainset)\n",
    "x_test_trans = poly.transform(X_testset)\n",
    "lr = LinearRegression()\n",
    "lr.fit(x_train_trans, y_trainset)\n",
    "y_pred = lr.predict(x_test_trans)\n",
    "\n",
    "print(\"R2-SCORE: %.6f\"% (r2_score(y_testset, y_pred)))\n",
    "print(\"MAE: %.6f\"% (mean_absolute_error(y_testset, y_pred)))\n",
    "print(\"MSE: %.6f\"% (mean_squared_error(y_testset, y_pred)))\n",
    "print(\"Residual sum of squares: %.6f\"% ((y_pred-y_testset) ** 2).sum())"
   ]
  },
  {
   "cell_type": "code",
   "execution_count": 36,
   "id": "nq92e40V-RA3",
   "metadata": {
    "colab": {
     "base_uri": "https://localhost:8080/"
    },
    "id": "nq92e40V-RA3",
    "outputId": "4a8cdc73-508f-497e-a6df-ba922b0bfd5a"
   },
   "outputs": [
    {
     "name": "stdout",
     "output_type": "stream",
     "text": [
      "R2-SCORE: 0.919517\n",
      "MAE: 10.471620\n",
      "MSE: 324.628011\n",
      "Residual sum of squares: 104205.591593\n"
     ]
    }
   ],
   "source": [
    "poly = PolynomialFeatures(degree=2, include_bias=True)\n",
    "x_train_trans = poly.fit_transform(X_trainset)\n",
    "x_test_trans = poly.transform(X_testset)\n",
    "lr = LinearRegression()\n",
    "lr.fit(x_train_trans, y_trainset)\n",
    "y_pred = lr.predict(x_test_trans)\n",
    "\n",
    "print(\"R2-SCORE: %.6f\"% (r2_score(y_testset, y_pred)))\n",
    "print(\"MAE: %.6f\"% (mean_absolute_error(y_testset, y_pred)))\n",
    "print(\"MSE: %.6f\"% (mean_squared_error(y_testset, y_pred)))\n",
    "print(\"Residual sum of squares: %.6f\"% ((y_pred-y_testset) ** 2).sum())"
   ]
  },
  {
   "cell_type": "code",
   "execution_count": 36,
   "id": "JQTRo87o-TCP",
   "metadata": {
    "id": "JQTRo87o-TCP"
   },
   "outputs": [],
   "source": []
  }
 ],
 "metadata": {
  "colab": {
   "collapsed_sections": [],
   "name": "200968216_Week_4_Ex_2.ipynb",
   "provenance": []
  },
  "kernelspec": {
   "display_name": "Python 3",
   "language": "python",
   "name": "python3"
  },
  "language_info": {
   "codemirror_mode": {
    "name": "ipython",
    "version": 3
   },
   "file_extension": ".py",
   "mimetype": "text/x-python",
   "name": "python",
   "nbconvert_exporter": "python",
   "pygments_lexer": "ipython3",
   "version": "3.8.8"
  }
 },
 "nbformat": 4,
 "nbformat_minor": 5
}
